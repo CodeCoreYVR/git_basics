{
 "cells": [
  {
   "cell_type": "code",
   "execution_count": 1,
   "id": "2b061690",
   "metadata": {
    "_cell_guid": "e0bb126d-32cc-4d85-980d-bc500ddab8ea",
    "_uuid": "0c078ee8-6f54-448d-a40a-af43ddbbe1dc",
    "collapsed": false,
    "execution": {
     "iopub.execute_input": "2023-11-07T23:00:44.272687Z",
     "iopub.status.busy": "2023-11-07T23:00:44.272148Z",
     "iopub.status.idle": "2023-11-07T23:00:47.443618Z",
     "shell.execute_reply": "2023-11-07T23:00:47.442278Z"
    },
    "jupyter": {
     "outputs_hidden": false
    },
    "papermill": {
     "duration": 3.189476,
     "end_time": "2023-11-07T23:00:47.446711",
     "exception": false,
     "start_time": "2023-11-07T23:00:44.257235",
     "status": "completed"
    },
    "tags": []
   },
   "outputs": [],
   "source": [
    "import numpy as np\n",
    "import pandas as pd\n",
    "import seaborn as sns\n",
    "import matplotlib.pyplot as plt\n",
    "from catboost import CatBoostClassifier\n",
    "from scipy.signal import savgol_filter, medfilt, find_peaks\n",
    "from scipy.ndimage import binary_closing, binary_dilation\n",
    "from scipy.signal.windows import triang\n",
    "from scipy.ndimage import convolve1d\n",
    "from tqdm.notebook import tqdm\n",
    "from typing import List"
   ]
  },
  {
   "cell_type": "markdown",
   "id": "e0c8c4d8",
   "metadata": {
    "papermill": {
     "duration": 0.01111,
     "end_time": "2023-11-07T23:00:47.469670",
     "exception": false,
     "start_time": "2023-11-07T23:00:47.458560",
     "status": "completed"
    },
    "tags": []
   },
   "source": [
    "### Preprocessing functions"
   ]
  },
  {
   "cell_type": "code",
   "execution_count": 2,
   "id": "5b6866ba",
   "metadata": {
    "execution": {
     "iopub.execute_input": "2023-11-07T23:00:47.495750Z",
     "iopub.status.busy": "2023-11-07T23:00:47.494790Z",
     "iopub.status.idle": "2023-11-07T23:00:47.525197Z",
     "shell.execute_reply": "2023-11-07T23:00:47.523192Z"
    },
    "papermill": {
     "duration": 0.046397,
     "end_time": "2023-11-07T23:00:47.528190",
     "exception": false,
     "start_time": "2023-11-07T23:00:47.481793",
     "status": "completed"
    },
    "tags": []
   },
   "outputs": [],
   "source": [
    "def preprocess_timeseries(ts_df: pd.DataFrame) -> pd.DataFrame:\n",
    "    \"\"\"Preprocess timeseries data to correct timestamp format and more memory-efficient\n",
    "    data types\"\"\"\n",
    "    ts_df[\"timestamp\"] = ts_df[\"timestamp\"].str[:-5]  # remove tzinfo\n",
    "    ts_df[\"timestamp\"] = pd.to_datetime(ts_df[\"timestamp\"], format=\"ISO8601\")\n",
    "    return ts_df\n",
    "\n",
    "\n",
    "def preprocess_events(events_df: pd.DataFrame) -> pd.DataFrame:\n",
    "    \"\"\"Preprocess events data to correct timestamp format and more memory-efficient\n",
    "    data types\"\"\"\n",
    "    events_df = events_df.dropna().reset_index(drop=True)\n",
    "    events_df[\"timestamp\"] = events_df[\"timestamp\"].str[:-5]  # remove tzinfo\n",
    "    events_df[\"timestamp\"] = pd.to_datetime(events_df[\"timestamp\"], format=\"ISO8601\")\n",
    "    events_df[\"step\"] = events_df[\"step\"].astype(int)\n",
    "    return events_df\n",
    "\n",
    "\n",
    "def single_series_1min_resampling(ts_df: pd.DataFrame) -> pd.DataFrame:\n",
    "    \"\"\"Resample a single raw time series (5sec) data to 1min intervals\"\"\"\n",
    "    sid = ts_df.series_id.iloc[0]\n",
    "    ts_5sec_df = ts_df.copy()\n",
    "    ts_5sec_df = ts_5sec_df.set_index(\"timestamp\")\n",
    "    ts_1min_df = ts_5sec_df.resample(\"1min\").agg(\n",
    "        step=(\"step\", \"min\"),\n",
    "        anglez_1min_mean=(\"anglez\", \"mean\"),\n",
    "        enmo_1min_mean=(\"enmo\", \"mean\"),\n",
    "    )\n",
    "    contains_nan = ts_1min_df.isnull().values.any()\n",
    "    if contains_nan:\n",
    "        prev_len = len(ts_1min_df)\n",
    "        ts_1min_df = ts_1min_df.dropna()\n",
    "        new_len = len(ts_1min_df)\n",
    "        print(f\"Dropped {prev_len - new_len} entries in {sid}\")\n",
    "    ts_1min_df = ts_1min_df.reset_index()\n",
    "    ts_1min_df[\"series_id\"] = sid\n",
    "    ts_1min_df[\"series_id\"] = ts_1min_df[\"series_id\"].astype(\"large_string[pyarrow]\")\n",
    "    ts_1min_df[\"hour\"] = ts_1min_df[\"timestamp\"].dt.hour.astype(\"uint8[pyarrow]\")\n",
    "    return ts_1min_df\n",
    "\n",
    "\n",
    "def resample_timeseries_data_to_1min(series_df: pd.DataFrame) -> pd.DataFrame:\n",
    "    \"\"\"Iterate over each series in the data and resample to 1min interval\"\"\"\n",
    "    series_grps = series_df.groupby(by=\"series_id\")\n",
    "    one_min_dfs = []\n",
    "    for series_id, ts_df in tqdm(series_grps):\n",
    "        ts_5sec_df = ts_df.copy()\n",
    "        ts_5sec_df = preprocess_timeseries(ts_5sec_df)\n",
    "        ts_1min_df = single_series_1min_resampling(ts_5sec_df)\n",
    "        one_min_dfs.append(ts_1min_df)\n",
    "\n",
    "    full_1min_df = pd.concat(one_min_dfs).reset_index(drop=True)\n",
    "\n",
    "    return full_1min_df\n",
    "\n",
    "\n",
    "def create_asleep_column(ts_df: pd.DataFrame, events_df: pd.DataFrame) -> pd.DataFrame:\n",
    "    \"\"\"Create a new binary column in the timeseries data indicating whether the person\n",
    "    is asleep at the specified timestamp or not. This column can be derived from the\n",
    "    onset and wakeup events in the events dataframe\"\"\"\n",
    "    ts_df = ts_df.copy()\n",
    "    ts_df[\"asleep\"] = 0\n",
    "    ts_df = ts_df.reset_index(drop=True)\n",
    "    for night_id, night_df in events_df.groupby(by=\"night\"):\n",
    "        if len(night_df) != 2:\n",
    "            continue\n",
    "        onset_step = night_df[night_df[\"event\"] == \"onset\"].step.item()\n",
    "        wakeup_step = night_df[night_df[\"event\"] == \"wakeup\"].step.item()\n",
    "        step_list = ts_df[\"step\"].tolist()\n",
    "        onset_1min_idx = step_list.index(onset_step)\n",
    "        wake_1min_idx = step_list.index(wakeup_step)\n",
    "        ts_df.loc[onset_1min_idx:wake_1min_idx, \"asleep\"] = 1\n",
    "    ts_df[\"asleep\"] = ts_df[\"asleep\"].astype(\"uint8[pyarrow]\")\n",
    "    return ts_df\n",
    "\n",
    "\n",
    "def event_minmax_prune_timeseries(\n",
    "    ts_df: pd.DataFrame, events_df: pd.DataFrame, hour_buffer: int\n",
    ") -> pd.DataFrame:\n",
    "    \"\"\"Prune timeseries dataframe to only include timestamps in the min and max\n",
    "    intervals of the event dataframe (some timeseries have long stretches of unannotated\n",
    "    data)\"\"\"\n",
    "    time_buffer = dt.timedelta(hours=hour_buffer)\n",
    "    min_event_dt = events_df[\"timestamp\"].min() - time_buffer\n",
    "    max_event_dt = events_df[\"timestamp\"].max() + time_buffer\n",
    "    prune_idx = (ts_df[\"timestamp\"] >= min_event_dt) & (\n",
    "        ts_df[\"timestamp\"] <= max_event_dt\n",
    "    )\n",
    "    ts_df = ts_df[prune_idx].reset_index(drop=True)\n",
    "    return ts_df\n",
    "\n",
    "\n",
    "def remove_no_annotation_periods(\n",
    "    ts_df: pd.DataFrame, min_hours: int = 24\n",
    ") -> pd.DataFrame:\n",
    "    \"\"\"Remove any sequences in the time series where no sleep has been detected for\n",
    "    'min_hours'. This most likely indicates that data was not annotated in this\n",
    "     period.\"\"\"\n",
    "    no_sleep_24h = (1 - maximum_filter1d(ts_df[\"asleep\"], size=60 * min_hours)).astype(\n",
    "        bool\n",
    "    )\n",
    "    ts_df = ts_df[~no_sleep_24h]\n",
    "    return ts_df\n",
    "\n",
    "\n",
    "def add_asleep_target_to_timeseries_data(\n",
    "    series_df: pd.DataFrame, events_df: pd.DataFrame, remove_unannotated: bool = False\n",
    "):\n",
    "    \"\"\"For each series in the data add a column which indicates whether the person is\n",
    "    asleep or not. This is based on the onset and wakeup times in the events data.\"\"\"\n",
    "    series_grps = series_df.groupby(by=\"series_id\")\n",
    "    event_grps = events_df.groupby(by=\"series_id\")\n",
    "    series_grp_keys = set(series_grps.groups.keys())\n",
    "    event_grp_keys = set(event_grps.groups.keys())\n",
    "    # remove keys that are not present in both events and series data\n",
    "    grp_keys = series_grp_keys.intersection(event_grp_keys)\n",
    "\n",
    "    ts_asleep_dataframes = []\n",
    "    for series_id in tqdm(grp_keys):\n",
    "        event_df = event_grps.get_group(series_id)\n",
    "        ts_df = series_grps.get_group(series_id)\n",
    "        ts_df = create_asleep_column(ts_df, event_df)\n",
    "        if remove_unannotated:\n",
    "            ts_df = remove_no_annotation_periods(ts_df)\n",
    "        ts_asleep_dataframes.append(ts_df)\n",
    "    ts_asleep_df = pd.concat(ts_asleep_dataframes).reset_index(drop=True)\n",
    "    return ts_asleep_df"
   ]
  },
  {
   "cell_type": "markdown",
   "id": "051fa646",
   "metadata": {
    "papermill": {
     "duration": 0.010893,
     "end_time": "2023-11-07T23:00:47.550506",
     "exception": false,
     "start_time": "2023-11-07T23:00:47.539613",
     "status": "completed"
    },
    "tags": []
   },
   "source": [
    "### Feature_extraction functions"
   ]
  },
  {
   "cell_type": "code",
   "execution_count": 3,
   "id": "94b63dbb",
   "metadata": {
    "execution": {
     "iopub.execute_input": "2023-11-07T23:00:47.576968Z",
     "iopub.status.busy": "2023-11-07T23:00:47.576510Z",
     "iopub.status.idle": "2023-11-07T23:00:47.591110Z",
     "shell.execute_reply": "2023-11-07T23:00:47.589017Z"
    },
    "papermill": {
     "duration": 0.030094,
     "end_time": "2023-11-07T23:00:47.593921",
     "exception": false,
     "start_time": "2023-11-07T23:00:47.563827",
     "status": "completed"
    },
    "tags": []
   },
   "outputs": [],
   "source": [
    "def iqr90(x):\n",
    "    return np.quantile(x, q=0.95) - np.quantile(x, q=0.05)\n",
    "\n",
    "\n",
    "def rolled_timeseries_features(\n",
    "    ts_df: pd.DataFrame,\n",
    "    agg_dict: dict,\n",
    "    roll_freqs: List[str],\n",
    ") -> pd.DataFrame:\n",
    "    \"\"\"Generate time series features based on rolling windows. In this case the\n",
    "    mean and standard deviation of each 'roll_freqs' frequency will be calculated\"\"\"\n",
    "    rolled_dfs = []\n",
    "    for freq in roll_freqs:\n",
    "        ts_roll_df = ts_df.rolling(freq).agg(agg_dict)\n",
    "        feat_cols = [\n",
    "            \"_\".join(name_parts) + f\"_{freq}\"\n",
    "            for name_parts in ts_roll_df.columns.to_flat_index()\n",
    "        ]\n",
    "        ts_roll_df.columns = feat_cols\n",
    "        ts_roll_df[feat_cols] = ts_roll_df[feat_cols].astype(np.float32)\n",
    "        rolled_dfs.append(ts_roll_df)\n",
    "    roll_df = pd.concat(rolled_dfs, axis=1)\n",
    "    return roll_df\n",
    "\n",
    "\n",
    "def extract_rolling_features(\n",
    "    ts_1min_df: pd.DataFrame, agg_dict, roll_freqs\n",
    ") -> pd.DataFrame:\n",
    "    series_grps = ts_1min_df.groupby(by=\"series_id\")\n",
    "    feature_dataframes = []\n",
    "    for series_id, ts_df in tqdm(series_grps):\n",
    "        ts_df = ts_df.set_index(\"timestamp\")\n",
    "        roll_feat_df = rolled_timeseries_features(ts_df, agg_dict, roll_freqs)\n",
    "        feat_df = pd.concat([ts_df, roll_feat_df], axis=1)\n",
    "        feat_df = feat_df.dropna()\n",
    "        feature_dataframes.append(feat_df)\n",
    "\n",
    "    full_feat_df = pd.concat(feature_dataframes).reset_index(names=\"timestamp\")\n",
    "    full_feat_df[\"step\"] = full_feat_df[\"step\"].astype(np.uint32)\n",
    "\n",
    "    return full_feat_df"
   ]
  },
  {
   "cell_type": "markdown",
   "id": "4a783342",
   "metadata": {
    "papermill": {
     "duration": 0.011723,
     "end_time": "2023-11-07T23:00:47.617157",
     "exception": false,
     "start_time": "2023-11-07T23:00:47.605434",
     "status": "completed"
    },
    "tags": []
   },
   "source": [
    "### Load train and test data"
   ]
  },
  {
   "cell_type": "code",
   "execution_count": 4,
   "id": "9cbc8225",
   "metadata": {
    "execution": {
     "iopub.execute_input": "2023-11-07T23:00:47.643216Z",
     "iopub.status.busy": "2023-11-07T23:00:47.642765Z",
     "iopub.status.idle": "2023-11-07T23:01:42.696873Z",
     "shell.execute_reply": "2023-11-07T23:01:42.695689Z"
    },
    "papermill": {
     "duration": 55.070462,
     "end_time": "2023-11-07T23:01:42.699894",
     "exception": false,
     "start_time": "2023-11-07T23:00:47.629432",
     "status": "completed"
    },
    "tags": []
   },
   "outputs": [],
   "source": [
    "train_datapath = \"/kaggle/input/child-mind-institute-detect-sleep-states/train_series.parquet\"\n",
    "raw_train_df = pd.read_parquet(train_datapath)"
   ]
  },
  {
   "cell_type": "code",
   "execution_count": 5,
   "id": "9767c69b",
   "metadata": {
    "execution": {
     "iopub.execute_input": "2023-11-07T23:01:42.725509Z",
     "iopub.status.busy": "2023-11-07T23:01:42.725116Z",
     "iopub.status.idle": "2023-11-07T23:01:42.740787Z",
     "shell.execute_reply": "2023-11-07T23:01:42.739624Z"
    },
    "papermill": {
     "duration": 0.032559,
     "end_time": "2023-11-07T23:01:42.743984",
     "exception": false,
     "start_time": "2023-11-07T23:01:42.711425",
     "status": "completed"
    },
    "tags": []
   },
   "outputs": [],
   "source": [
    "test_datapath = \"/kaggle/input/child-mind-institute-detect-sleep-states/test_series.parquet\"\n",
    "raw_test_df = pd.read_parquet(test_datapath)"
   ]
  },
  {
   "cell_type": "markdown",
   "id": "f61f6cbd",
   "metadata": {
    "papermill": {
     "duration": 0.011744,
     "end_time": "2023-11-07T23:01:42.767507",
     "exception": false,
     "start_time": "2023-11-07T23:01:42.755763",
     "status": "completed"
    },
    "tags": []
   },
   "source": [
    "### Resample data to 1min instead of 5sec frequency"
   ]
  },
  {
   "cell_type": "code",
   "execution_count": 6,
   "id": "4899ed9c",
   "metadata": {
    "execution": {
     "iopub.execute_input": "2023-11-07T23:01:42.794970Z",
     "iopub.status.busy": "2023-11-07T23:01:42.794487Z",
     "iopub.status.idle": "2023-11-07T23:04:28.970233Z",
     "shell.execute_reply": "2023-11-07T23:04:28.968812Z"
    },
    "papermill": {
     "duration": 166.194286,
     "end_time": "2023-11-07T23:04:28.973280",
     "exception": false,
     "start_time": "2023-11-07T23:01:42.778994",
     "status": "completed"
    },
    "tags": []
   },
   "outputs": [
    {
     "data": {
      "application/vnd.jupyter.widget-view+json": {
       "model_id": "65cf727149f8441bbe0ece222784f74b",
       "version_major": 2,
       "version_minor": 0
      },
      "text/plain": [
       "  0%|          | 0/277 [00:00<?, ?it/s]"
      ]
     },
     "metadata": {},
     "output_type": "display_data"
    },
    {
     "name": "stdout",
     "output_type": "stream",
     "text": [
      "Dropped 60 entries in 1087d7b0ff2e\n",
      "Dropped 60 entries in 18a0ca03431d\n",
      "Dropped 60 entries in 292a75c0b94e\n",
      "Dropped 60 entries in 2f7504d0f426\n",
      "Dropped 60 entries in 7476c0bd18d2\n",
      "Dropped 60 entries in 808652a666c6\n",
      "Dropped 60 entries in 844f54dcab89\n",
      "Dropped 60 entries in aa81faa78747\n",
      "Dropped 60 entries in b4b75225b224\n",
      "Dropped 60 entries in b737f8c78ec5\n",
      "Dropped 60 entries in b84960841a75\n",
      "Dropped 60 entries in bccf2f2819f8\n",
      "Dropped 60 entries in bfe41e96d12f\n",
      "Dropped 60 entries in c3072a759efb\n",
      "Dropped 60 entries in c5d08fc3e040\n",
      "Dropped 60 entries in c75b4b207bea\n",
      "Dropped 60 entries in dfc3ccebfdc9\n"
     ]
    }
   ],
   "source": [
    "raw_train_df[\"enmo\"] = raw_train_df[\"enmo\"].clip( 0.0, 3.0)\n",
    "ts_train_1min_df = resample_timeseries_data_to_1min(raw_train_df)"
   ]
  },
  {
   "cell_type": "code",
   "execution_count": 7,
   "id": "fae18080",
   "metadata": {
    "execution": {
     "iopub.execute_input": "2023-11-07T23:04:29.002645Z",
     "iopub.status.busy": "2023-11-07T23:04:29.001657Z",
     "iopub.status.idle": "2023-11-07T23:04:29.079570Z",
     "shell.execute_reply": "2023-11-07T23:04:29.078244Z"
    },
    "papermill": {
     "duration": 0.095577,
     "end_time": "2023-11-07T23:04:29.082217",
     "exception": false,
     "start_time": "2023-11-07T23:04:28.986640",
     "status": "completed"
    },
    "tags": []
   },
   "outputs": [
    {
     "data": {
      "application/vnd.jupyter.widget-view+json": {
       "model_id": "e33077816116497bab1e5797d129f28d",
       "version_major": 2,
       "version_minor": 0
      },
      "text/plain": [
       "  0%|          | 0/3 [00:00<?, ?it/s]"
      ]
     },
     "metadata": {},
     "output_type": "display_data"
    }
   ],
   "source": [
    "raw_test_df[\"enmo\"] = raw_test_df[\"enmo\"].clip( 0.0, 3.0)\n",
    "ts_test_1min_df = resample_timeseries_data_to_1min(raw_test_df)"
   ]
  },
  {
   "cell_type": "markdown",
   "id": "3443eb75",
   "metadata": {
    "papermill": {
     "duration": 0.013831,
     "end_time": "2023-11-07T23:04:29.109377",
     "exception": false,
     "start_time": "2023-11-07T23:04:29.095546",
     "status": "completed"
    },
    "tags": []
   },
   "source": [
    "### Add binary target column that indicates whether people are asleep"
   ]
  },
  {
   "cell_type": "code",
   "execution_count": 8,
   "id": "4291db56",
   "metadata": {
    "execution": {
     "iopub.execute_input": "2023-11-07T23:04:29.137682Z",
     "iopub.status.busy": "2023-11-07T23:04:29.137225Z",
     "iopub.status.idle": "2023-11-07T23:04:29.176777Z",
     "shell.execute_reply": "2023-11-07T23:04:29.175413Z"
    },
    "papermill": {
     "duration": 0.057051,
     "end_time": "2023-11-07T23:04:29.179664",
     "exception": false,
     "start_time": "2023-11-07T23:04:29.122613",
     "status": "completed"
    },
    "tags": []
   },
   "outputs": [],
   "source": [
    "events_path = \"/kaggle/input/child-mind-institute-detect-sleep-states/train_events.csv\"\n",
    "raw_events_df = pd.read_csv(events_path)"
   ]
  },
  {
   "cell_type": "code",
   "execution_count": 9,
   "id": "d4754576",
   "metadata": {
    "execution": {
     "iopub.execute_input": "2023-11-07T23:04:29.208627Z",
     "iopub.status.busy": "2023-11-07T23:04:29.208199Z",
     "iopub.status.idle": "2023-11-07T23:04:29.232517Z",
     "shell.execute_reply": "2023-11-07T23:04:29.231063Z"
    },
    "papermill": {
     "duration": 0.042438,
     "end_time": "2023-11-07T23:04:29.235822",
     "exception": false,
     "start_time": "2023-11-07T23:04:29.193384",
     "status": "completed"
    },
    "tags": []
   },
   "outputs": [],
   "source": [
    "events_df = raw_events_df.copy()\n",
    "events_df = preprocess_events(events_df)"
   ]
  },
  {
   "cell_type": "code",
   "execution_count": 10,
   "id": "03124dbe",
   "metadata": {
    "execution": {
     "iopub.execute_input": "2023-11-07T23:04:29.265383Z",
     "iopub.status.busy": "2023-11-07T23:04:29.264982Z",
     "iopub.status.idle": "2023-11-07T23:05:50.990846Z",
     "shell.execute_reply": "2023-11-07T23:05:50.989267Z"
    },
    "papermill": {
     "duration": 81.743624,
     "end_time": "2023-11-07T23:05:50.993818",
     "exception": false,
     "start_time": "2023-11-07T23:04:29.250194",
     "status": "completed"
    },
    "tags": []
   },
   "outputs": [
    {
     "data": {
      "application/vnd.jupyter.widget-view+json": {
       "model_id": "abe700c6e2d7472e93af559a2aad672c",
       "version_major": 2,
       "version_minor": 0
      },
      "text/plain": [
       "  0%|          | 0/269 [00:00<?, ?it/s]"
      ]
     },
     "metadata": {},
     "output_type": "display_data"
    }
   ],
   "source": [
    "ts_train_1min_df = add_asleep_target_to_timeseries_data(ts_train_1min_df, events_df)"
   ]
  },
  {
   "cell_type": "markdown",
   "id": "54c95b1b",
   "metadata": {
    "papermill": {
     "duration": 0.013296,
     "end_time": "2023-11-07T23:05:51.021135",
     "exception": false,
     "start_time": "2023-11-07T23:05:51.007839",
     "status": "completed"
    },
    "tags": []
   },
   "source": [
    "### Extract rolling features"
   ]
  },
  {
   "cell_type": "code",
   "execution_count": 11,
   "id": "6a9fba45",
   "metadata": {
    "execution": {
     "iopub.execute_input": "2023-11-07T23:05:51.050783Z",
     "iopub.status.busy": "2023-11-07T23:05:51.050362Z",
     "iopub.status.idle": "2023-11-07T23:05:51.056477Z",
     "shell.execute_reply": "2023-11-07T23:05:51.055294Z"
    },
    "papermill": {
     "duration": 0.02435,
     "end_time": "2023-11-07T23:05:51.058922",
     "exception": false,
     "start_time": "2023-11-07T23:05:51.034572",
     "status": "completed"
    },
    "tags": []
   },
   "outputs": [],
   "source": [
    "def calculate_first_order_variation(ts_1min_df, var_col):\n",
    "    first_order_var = ts_1min_df.groupby(by=\"series_id\")[var_col].diff().abs()\n",
    "    first_order_var[first_order_var.isna()] = 0\n",
    "    return first_order_var"
   ]
  },
  {
   "cell_type": "code",
   "execution_count": 12,
   "id": "ee94a583",
   "metadata": {
    "execution": {
     "iopub.execute_input": "2023-11-07T23:05:51.159660Z",
     "iopub.status.busy": "2023-11-07T23:05:51.159253Z",
     "iopub.status.idle": "2023-11-07T23:05:52.525458Z",
     "shell.execute_reply": "2023-11-07T23:05:52.524161Z"
    },
    "papermill": {
     "duration": 1.455991,
     "end_time": "2023-11-07T23:05:52.528372",
     "exception": false,
     "start_time": "2023-11-07T23:05:51.072381",
     "status": "completed"
    },
    "tags": []
   },
   "outputs": [],
   "source": [
    "ts_train_1min_df[\"anglez_1min_1v\"] = calculate_first_order_variation(ts_train_1min_df, \"anglez_1min_mean\")\n",
    "ts_train_1min_df[\"enmo_1min_1v\"] = calculate_first_order_variation(ts_train_1min_df, \"enmo_1min_mean\")\n",
    "ts_test_1min_df[\"anglez_1min_1v\"] = calculate_first_order_variation(ts_test_1min_df, \"anglez_1min_mean\")\n",
    "ts_test_1min_df[\"enmo_1min_1v\"] = calculate_first_order_variation(ts_test_1min_df, \"enmo_1min_mean\")"
   ]
  },
  {
   "cell_type": "code",
   "execution_count": 13,
   "id": "44388b0f",
   "metadata": {
    "execution": {
     "iopub.execute_input": "2023-11-07T23:05:52.558230Z",
     "iopub.status.busy": "2023-11-07T23:05:52.557776Z",
     "iopub.status.idle": "2023-11-07T23:05:53.596447Z",
     "shell.execute_reply": "2023-11-07T23:05:53.595496Z"
    },
    "papermill": {
     "duration": 1.056422,
     "end_time": "2023-11-07T23:05:53.599124",
     "exception": false,
     "start_time": "2023-11-07T23:05:52.542702",
     "status": "completed"
    },
    "tags": []
   },
   "outputs": [],
   "source": [
    "awake_df = ts_train_1min_df[ts_train_1min_df[\"asleep\"]==0]\n",
    "awake_enmo_median = awake_df[\"enmo_1min_mean\"].median()\n",
    "ts_train_1min_df[\"awake_count\"] = ts_train_1min_df[\"enmo_1min_mean\"]>awake_enmo_median\n",
    "ts_test_1min_df[\"awake_count\"] = ts_test_1min_df[\"enmo_1min_mean\"]>awake_enmo_median"
   ]
  },
  {
   "cell_type": "code",
   "execution_count": 14,
   "id": "f2e1c0c0",
   "metadata": {
    "execution": {
     "iopub.execute_input": "2023-11-07T23:05:53.630826Z",
     "iopub.status.busy": "2023-11-07T23:05:53.629350Z",
     "iopub.status.idle": "2023-11-07T23:05:53.636293Z",
     "shell.execute_reply": "2023-11-07T23:05:53.634952Z"
    },
    "papermill": {
     "duration": 0.025828,
     "end_time": "2023-11-07T23:05:53.639374",
     "exception": false,
     "start_time": "2023-11-07T23:05:53.613546",
     "status": "completed"
    },
    "tags": []
   },
   "outputs": [],
   "source": [
    "roll_freqs = [\"15min\", \"30min\", \"1H\"]\n",
    "agg_funcs = [\"mean\", \"std\", \"max\"]\n",
    "agg_dict = {\n",
    "    \"enmo_1min_mean\": agg_funcs,\n",
    "    \"enmo_1min_1v\": agg_funcs,\n",
    "    \"anglez_1min_mean\": agg_funcs,\n",
    "    \"anglez_1min_1v\": agg_funcs,\n",
    "    \"awake_count\": \"mean\"\n",
    "}"
   ]
  },
  {
   "cell_type": "code",
   "execution_count": 15,
   "id": "c3da1070",
   "metadata": {
    "execution": {
     "iopub.execute_input": "2023-11-07T23:05:53.669229Z",
     "iopub.status.busy": "2023-11-07T23:05:53.668471Z",
     "iopub.status.idle": "2023-11-07T23:06:42.397623Z",
     "shell.execute_reply": "2023-11-07T23:06:42.396493Z"
    },
    "papermill": {
     "duration": 48.74873,
     "end_time": "2023-11-07T23:06:42.402079",
     "exception": false,
     "start_time": "2023-11-07T23:05:53.653349",
     "status": "completed"
    },
    "tags": []
   },
   "outputs": [
    {
     "data": {
      "application/vnd.jupyter.widget-view+json": {
       "model_id": "9fcb2fccfce04e66a0590ec495f0d3bb",
       "version_major": 2,
       "version_minor": 0
      },
      "text/plain": [
       "  0%|          | 0/269 [00:00<?, ?it/s]"
      ]
     },
     "metadata": {},
     "output_type": "display_data"
    }
   ],
   "source": [
    "ts_train_feat_df = extract_rolling_features(ts_train_1min_df, agg_dict, roll_freqs)"
   ]
  },
  {
   "cell_type": "code",
   "execution_count": 16,
   "id": "8a147f2b",
   "metadata": {
    "execution": {
     "iopub.execute_input": "2023-11-07T23:06:42.431166Z",
     "iopub.status.busy": "2023-11-07T23:06:42.430755Z",
     "iopub.status.idle": "2023-11-07T23:06:42.661958Z",
     "shell.execute_reply": "2023-11-07T23:06:42.660566Z"
    },
    "papermill": {
     "duration": 0.249043,
     "end_time": "2023-11-07T23:06:42.664929",
     "exception": false,
     "start_time": "2023-11-07T23:06:42.415886",
     "status": "completed"
    },
    "tags": []
   },
   "outputs": [
    {
     "data": {
      "application/vnd.jupyter.widget-view+json": {
       "model_id": "b9e0c23120bc45cbbabf4151b2c0cb54",
       "version_major": 2,
       "version_minor": 0
      },
      "text/plain": [
       "  0%|          | 0/3 [00:00<?, ?it/s]"
      ]
     },
     "metadata": {},
     "output_type": "display_data"
    }
   ],
   "source": [
    "ts_test_feat_df = extract_rolling_features(ts_test_1min_df, agg_dict, roll_freqs)"
   ]
  },
  {
   "cell_type": "markdown",
   "id": "b24b14fa",
   "metadata": {
    "papermill": {
     "duration": 0.013381,
     "end_time": "2023-11-07T23:06:42.692225",
     "exception": false,
     "start_time": "2023-11-07T23:06:42.678844",
     "status": "completed"
    },
    "tags": []
   },
   "source": [
    "### Put extra emphasis on transition periods"
   ]
  },
  {
   "cell_type": "code",
   "execution_count": 17,
   "id": "289d8427",
   "metadata": {
    "execution": {
     "iopub.execute_input": "2023-11-07T23:06:42.721919Z",
     "iopub.status.busy": "2023-11-07T23:06:42.721031Z",
     "iopub.status.idle": "2023-11-07T23:06:42.727127Z",
     "shell.execute_reply": "2023-11-07T23:06:42.726111Z"
    },
    "papermill": {
     "duration": 0.023605,
     "end_time": "2023-11-07T23:06:42.729600",
     "exception": false,
     "start_time": "2023-11-07T23:06:42.705995",
     "status": "completed"
    },
    "tags": []
   },
   "outputs": [],
   "source": [
    "def rectangular_transition_sample_weights(sample_weights, transition_idxs, transition_weight, window_size=31):\n",
    "    transition_filter = np.zeros_like(sample_weights)\n",
    "    transition_filter[transition_idxs] = 1\n",
    "    transition_filter = binary_dilation(transition_filter, structure=np.ones(window_size))\n",
    "    transition_filter = transition_filter*transition_weight\n",
    "    sample_weights += transition_filter\n",
    "    return sample_weights"
   ]
  },
  {
   "cell_type": "code",
   "execution_count": 18,
   "id": "651696d5",
   "metadata": {
    "execution": {
     "iopub.execute_input": "2023-11-07T23:06:42.759655Z",
     "iopub.status.busy": "2023-11-07T23:06:42.758854Z",
     "iopub.status.idle": "2023-11-07T23:06:42.766149Z",
     "shell.execute_reply": "2023-11-07T23:06:42.764535Z"
    },
    "papermill": {
     "duration": 0.025252,
     "end_time": "2023-11-07T23:06:42.768742",
     "exception": false,
     "start_time": "2023-11-07T23:06:42.743490",
     "status": "completed"
    },
    "tags": []
   },
   "outputs": [],
   "source": [
    "def triangular_transition_sample_weights(sample_weights, transition_idxs, transition_weight, window_size=31):\n",
    "    transition_filter = np.zeros_like(sample_weights)\n",
    "    transition_filter[transition_idxs] = 1\n",
    "    tri_window = triang(window_size)*transition_weight\n",
    "    transition_filter = convolve1d(transition_filter, tri_window)\n",
    "    sample_weights += transition_filter\n",
    "    return sample_weights"
   ]
  },
  {
   "cell_type": "code",
   "execution_count": 19,
   "id": "1363a472",
   "metadata": {
    "execution": {
     "iopub.execute_input": "2023-11-07T23:06:42.799427Z",
     "iopub.status.busy": "2023-11-07T23:06:42.798701Z",
     "iopub.status.idle": "2023-11-07T23:06:54.226385Z",
     "shell.execute_reply": "2023-11-07T23:06:54.225040Z"
    },
    "papermill": {
     "duration": 11.446122,
     "end_time": "2023-11-07T23:06:54.229223",
     "exception": false,
     "start_time": "2023-11-07T23:06:42.783101",
     "status": "completed"
    },
    "tags": []
   },
   "outputs": [],
   "source": [
    "transition_idxs = ts_train_feat_df.reset_index().merge(events_df, on=[\"step\",\"series_id\"])[\"index\"].values\n",
    "sample_weights = np.ones(len(ts_train_feat_df))\n",
    "sample_weights = triangular_transition_sample_weights(sample_weights, transition_idxs, transition_weight=10, window_size=31)"
   ]
  },
  {
   "cell_type": "markdown",
   "id": "a894678f",
   "metadata": {
    "papermill": {
     "duration": 0.013819,
     "end_time": "2023-11-07T23:06:54.257711",
     "exception": false,
     "start_time": "2023-11-07T23:06:54.243892",
     "status": "completed"
    },
    "tags": []
   },
   "source": [
    "### Train model"
   ]
  },
  {
   "cell_type": "code",
   "execution_count": 20,
   "id": "e59c7066",
   "metadata": {
    "execution": {
     "iopub.execute_input": "2023-11-07T23:06:54.288776Z",
     "iopub.status.busy": "2023-11-07T23:06:54.287733Z",
     "iopub.status.idle": "2023-11-07T23:06:55.631114Z",
     "shell.execute_reply": "2023-11-07T23:06:55.630045Z"
    },
    "papermill": {
     "duration": 1.362235,
     "end_time": "2023-11-07T23:06:55.633940",
     "exception": false,
     "start_time": "2023-11-07T23:06:54.271705",
     "status": "completed"
    },
    "tags": []
   },
   "outputs": [],
   "source": [
    "feat_cols = ts_train_feat_df.columns.drop([\"timestamp\", \"series_id\", \"step\", \"asleep\", \"awake_count\"]).tolist()\n",
    "target_col = \"asleep\"\n",
    "X_train = ts_train_feat_df[feat_cols].copy()\n",
    "y_train = ts_train_feat_df[target_col].copy()"
   ]
  },
  {
   "cell_type": "code",
   "execution_count": 21,
   "id": "6db612ca",
   "metadata": {
    "execution": {
     "iopub.execute_input": "2023-11-07T23:06:55.663380Z",
     "iopub.status.busy": "2023-11-07T23:06:55.662944Z",
     "iopub.status.idle": "2023-11-07T23:58:52.225887Z",
     "shell.execute_reply": "2023-11-07T23:58:52.223163Z"
    },
    "papermill": {
     "duration": 3116.581862,
     "end_time": "2023-11-07T23:58:52.229629",
     "exception": false,
     "start_time": "2023-11-07T23:06:55.647767",
     "status": "completed"
    },
    "tags": []
   },
   "outputs": [
    {
     "name": "stdout",
     "output_type": "stream",
     "text": [
      "Learning rate set to 0.5\n",
      "0:\tlearn: 0.3048957\ttotal: 7.37s\tremaining: 1h 1m 16s\n",
      "10:\tlearn: 0.2065311\ttotal: 1m 9s\tremaining: 51m 44s\n",
      "20:\tlearn: 0.1972606\ttotal: 2m 11s\tremaining: 49m 52s\n",
      "30:\tlearn: 0.1915895\ttotal: 3m 9s\tremaining: 47m 42s\n",
      "40:\tlearn: 0.1872777\ttotal: 4m 12s\tremaining: 47m 5s\n",
      "50:\tlearn: 0.1839539\ttotal: 5m 10s\tremaining: 45m 30s\n",
      "60:\tlearn: 0.1814005\ttotal: 6m 10s\tremaining: 44m 26s\n",
      "70:\tlearn: 0.1790665\ttotal: 7m 12s\tremaining: 43m 32s\n",
      "80:\tlearn: 0.1770852\ttotal: 8m 14s\tremaining: 42m 39s\n",
      "90:\tlearn: 0.1749012\ttotal: 9m 15s\tremaining: 41m 36s\n",
      "100:\tlearn: 0.1734194\ttotal: 10m 17s\tremaining: 40m 40s\n",
      "110:\tlearn: 0.1720039\ttotal: 11m 17s\tremaining: 39m 34s\n",
      "120:\tlearn: 0.1706553\ttotal: 12m 17s\tremaining: 38m 31s\n",
      "130:\tlearn: 0.1692163\ttotal: 13m 19s\tremaining: 37m 33s\n",
      "140:\tlearn: 0.1676340\ttotal: 14m 22s\tremaining: 36m 37s\n",
      "150:\tlearn: 0.1667162\ttotal: 15m 22s\tremaining: 35m 32s\n",
      "160:\tlearn: 0.1658010\ttotal: 16m 22s\tremaining: 34m 28s\n",
      "170:\tlearn: 0.1648549\ttotal: 17m 23s\tremaining: 33m 27s\n",
      "180:\tlearn: 0.1640179\ttotal: 18m 24s\tremaining: 32m 26s\n",
      "190:\tlearn: 0.1632835\ttotal: 19m 25s\tremaining: 31m 25s\n",
      "200:\tlearn: 0.1623910\ttotal: 20m 28s\tremaining: 30m 27s\n",
      "210:\tlearn: 0.1612909\ttotal: 21m 31s\tremaining: 29m 29s\n",
      "220:\tlearn: 0.1603538\ttotal: 22m 32s\tremaining: 28m 27s\n",
      "230:\tlearn: 0.1595209\ttotal: 23m 34s\tremaining: 27m 27s\n",
      "240:\tlearn: 0.1587907\ttotal: 24m 37s\tremaining: 26m 27s\n",
      "250:\tlearn: 0.1581178\ttotal: 25m 38s\tremaining: 25m 26s\n",
      "260:\tlearn: 0.1573169\ttotal: 26m 42s\tremaining: 24m 27s\n",
      "270:\tlearn: 0.1566224\ttotal: 27m 46s\tremaining: 23m 27s\n",
      "280:\tlearn: 0.1560241\ttotal: 28m 46s\tremaining: 22m 25s\n",
      "290:\tlearn: 0.1553726\ttotal: 29m 47s\tremaining: 21m 23s\n",
      "300:\tlearn: 0.1547578\ttotal: 30m 48s\tremaining: 20m 22s\n",
      "310:\tlearn: 0.1540919\ttotal: 31m 47s\tremaining: 19m 19s\n",
      "320:\tlearn: 0.1534653\ttotal: 32m 48s\tremaining: 18m 17s\n",
      "330:\tlearn: 0.1528627\ttotal: 33m 47s\tremaining: 17m 15s\n",
      "340:\tlearn: 0.1522641\ttotal: 34m 49s\tremaining: 16m 14s\n",
      "350:\tlearn: 0.1517048\ttotal: 35m 51s\tremaining: 15m 13s\n",
      "360:\tlearn: 0.1510784\ttotal: 36m 55s\tremaining: 14m 13s\n",
      "370:\tlearn: 0.1505572\ttotal: 37m 55s\tremaining: 13m 11s\n",
      "380:\tlearn: 0.1499905\ttotal: 38m 57s\tremaining: 12m 10s\n",
      "390:\tlearn: 0.1494928\ttotal: 39m 59s\tremaining: 11m 8s\n",
      "400:\tlearn: 0.1489620\ttotal: 41m 1s\tremaining: 10m 7s\n",
      "410:\tlearn: 0.1484453\ttotal: 42m 5s\tremaining: 9m 6s\n",
      "420:\tlearn: 0.1479323\ttotal: 43m 6s\tremaining: 8m 5s\n",
      "430:\tlearn: 0.1473795\ttotal: 44m 6s\tremaining: 7m 3s\n",
      "440:\tlearn: 0.1468909\ttotal: 45m 11s\tremaining: 6m 2s\n",
      "450:\tlearn: 0.1464115\ttotal: 46m 14s\tremaining: 5m 1s\n",
      "460:\tlearn: 0.1458869\ttotal: 47m 16s\tremaining: 3m 59s\n",
      "470:\tlearn: 0.1454052\ttotal: 48m 19s\tremaining: 2m 58s\n",
      "480:\tlearn: 0.1449049\ttotal: 49m 21s\tremaining: 1m 56s\n",
      "490:\tlearn: 0.1443901\ttotal: 50m 21s\tremaining: 55.4s\n",
      "499:\tlearn: 0.1439557\ttotal: 51m 18s\tremaining: 0us\n"
     ]
    },
    {
     "data": {
      "text/plain": [
       "0.9661553653941106"
      ]
     },
     "execution_count": 21,
     "metadata": {},
     "output_type": "execute_result"
    }
   ],
   "source": [
    "clf = CatBoostClassifier(n_estimators=500, cat_features=[\"hour\"], verbose=10)\n",
    "clf.fit(X_train, y_train, sample_weight=sample_weights)\n",
    "clf.score(X_train, y_train)"
   ]
  },
  {
   "cell_type": "markdown",
   "id": "fd2de9ca",
   "metadata": {
    "papermill": {
     "duration": 0.018247,
     "end_time": "2023-11-07T23:58:52.266628",
     "exception": false,
     "start_time": "2023-11-07T23:58:52.248381",
     "status": "completed"
    },
    "tags": []
   },
   "source": [
    "### Make predictions"
   ]
  },
  {
   "cell_type": "code",
   "execution_count": 22,
   "id": "771abb8e",
   "metadata": {
    "execution": {
     "iopub.execute_input": "2023-11-07T23:58:52.309009Z",
     "iopub.status.busy": "2023-11-07T23:58:52.308505Z",
     "iopub.status.idle": "2023-11-07T23:58:52.317217Z",
     "shell.execute_reply": "2023-11-07T23:58:52.316141Z"
    },
    "papermill": {
     "duration": 0.033287,
     "end_time": "2023-11-07T23:58:52.319422",
     "exception": false,
     "start_time": "2023-11-07T23:58:52.286135",
     "status": "completed"
    },
    "tags": []
   },
   "outputs": [],
   "source": [
    "def filter_predictions(y_proba, window_size):\n",
    "    y_proba_smooth = savgol_filter(y_proba, window_length=window_size, polyorder=2)\n",
    "    y_pred = (y_proba_smooth > 0.5)*1\n",
    "    if (window_size%2)==0: window_size+=1 \n",
    "    y_pred = binary_closing(y_pred, structure=np.ones(window_size))\n",
    "    return y_pred"
   ]
  },
  {
   "cell_type": "code",
   "execution_count": 23,
   "id": "8af36d14",
   "metadata": {
    "execution": {
     "iopub.execute_input": "2023-11-07T23:58:52.359004Z",
     "iopub.status.busy": "2023-11-07T23:58:52.357925Z",
     "iopub.status.idle": "2023-11-07T23:58:52.366783Z",
     "shell.execute_reply": "2023-11-07T23:58:52.365552Z"
    },
    "papermill": {
     "duration": 0.031597,
     "end_time": "2023-11-07T23:58:52.369529",
     "exception": false,
     "start_time": "2023-11-07T23:58:52.337932",
     "status": "completed"
    },
    "tags": []
   },
   "outputs": [],
   "source": [
    "def score_sleep_periods(y_proba, onset_idxs, wakeup_idxs):\n",
    "    onset_scores = []\n",
    "    wakeup_scores = []\n",
    "    for start_idx, end_idx in zip(onset_idxs, wakeup_idxs):\n",
    "        yp = y_proba[start_idx:end_idx]\n",
    "        lin_weight = np.linspace(0, 1, num=len(yp))\n",
    "        onset_score_ = np.sum(yp*lin_weight[::-1])/np.sum(lin_weight)\n",
    "        wakeup_score_ = np.sum(yp*lin_weight)/np.sum(lin_weight)\n",
    "        onset_scores.append(onset_score_)\n",
    "        wakeup_scores.append(wakeup_score_)\n",
    "    return np.array(onset_scores), np.array(wakeup_scores)"
   ]
  },
  {
   "cell_type": "code",
   "execution_count": 24,
   "id": "1b983d5e",
   "metadata": {
    "execution": {
     "iopub.execute_input": "2023-11-07T23:58:52.409844Z",
     "iopub.status.busy": "2023-11-07T23:58:52.408530Z",
     "iopub.status.idle": "2023-11-07T23:58:52.414971Z",
     "shell.execute_reply": "2023-11-07T23:58:52.414173Z"
    },
    "papermill": {
     "duration": 0.028755,
     "end_time": "2023-11-07T23:58:52.417275",
     "exception": false,
     "start_time": "2023-11-07T23:58:52.388520",
     "status": "completed"
    },
    "tags": []
   },
   "outputs": [],
   "source": [
    "def create_event_dataframe(feat_df, event_idxs, event_scores, event_type):\n",
    "    event_df = feat_df.loc[event_idxs, [\"step\", \"series_id\"]]\n",
    "    event_df[\"event\"] = event_type\n",
    "    event_df[\"score\"] = event_scores\n",
    "    return event_df"
   ]
  },
  {
   "cell_type": "code",
   "execution_count": 25,
   "id": "1f7e2d80",
   "metadata": {
    "execution": {
     "iopub.execute_input": "2023-11-07T23:58:52.457097Z",
     "iopub.status.busy": "2023-11-07T23:58:52.456172Z",
     "iopub.status.idle": "2023-11-07T23:58:52.580808Z",
     "shell.execute_reply": "2023-11-07T23:58:52.579560Z"
    },
    "papermill": {
     "duration": 0.14805,
     "end_time": "2023-11-07T23:58:52.583952",
     "exception": false,
     "start_time": "2023-11-07T23:58:52.435902",
     "status": "completed"
    },
    "tags": []
   },
   "outputs": [
    {
     "data": {
      "application/vnd.jupyter.widget-view+json": {
       "model_id": "764dd72d671446879894ff3f9c35aff0",
       "version_major": 2,
       "version_minor": 0
      },
      "text/plain": [
       "  0%|          | 0/3 [00:00<?, ?it/s]"
      ]
     },
     "metadata": {},
     "output_type": "display_data"
    }
   ],
   "source": [
    "window_size = 12 # mins\n",
    "plateau_size = 120 # mins\n",
    "test_event_dfs = []\n",
    "series_grps = ts_test_feat_df.groupby(by=\"series_id\")\n",
    "for series_id, test_feat_df in tqdm(series_grps):\n",
    "    test_feat_df = test_feat_df.reset_index(drop=True)\n",
    "    X_test = test_feat_df[feat_cols].copy()\n",
    "    y_proba = clf.predict_proba(X_test)\n",
    "    y_proba = y_proba[:, 1]\n",
    "    y_pred = filter_predictions(y_proba, window_size)\n",
    "    peaks, plateaus = find_peaks(y_pred, plateau_size=plateau_size)\n",
    "\n",
    "    # get indices of onset and wake ups\n",
    "    onset_idxs = plateaus[\"left_edges\"]\n",
    "    wakeup_idxs = plateaus[\"right_edges\"]\n",
    "\n",
    "    # score each sleeping event and create event dataframe\n",
    "    onset_scores, wakeup_scores = score_sleep_periods(y_proba, onset_idxs, wakeup_idxs)\n",
    "    onset_df = create_event_dataframe(\n",
    "        test_feat_df, onset_idxs, onset_scores, event_type=\"onset\"\n",
    "    )\n",
    "    wakeup_df = create_event_dataframe(\n",
    "        test_feat_df, wakeup_idxs, wakeup_scores, event_type=\"wakeup\"\n",
    "    )\n",
    "    event_df = pd.concat([onset_df, wakeup_df])\n",
    "    event_df = event_df.sort_values(by=\"step\")\n",
    "    test_event_dfs.append(event_df)\n",
    "\n",
    "submission_df = (\n",
    "    pd.concat(test_event_dfs).reset_index(drop=True).reset_index(names=\"row_id\")\n",
    ")"
   ]
  },
  {
   "cell_type": "code",
   "execution_count": 26,
   "id": "eed41426",
   "metadata": {
    "_cell_guid": "b5b96331-aa4f-45d9-b597-58303606bb25",
    "_uuid": "188d8dc5-5811-4129-a05f-9f6cf11a34f2",
    "collapsed": false,
    "execution": {
     "iopub.execute_input": "2023-11-07T23:58:52.623758Z",
     "iopub.status.busy": "2023-11-07T23:58:52.623016Z",
     "iopub.status.idle": "2023-11-07T23:58:52.640531Z",
     "shell.execute_reply": "2023-11-07T23:58:52.639262Z"
    },
    "jupyter": {
     "outputs_hidden": false
    },
    "papermill": {
     "duration": 0.040423,
     "end_time": "2023-11-07T23:58:52.643270",
     "exception": false,
     "start_time": "2023-11-07T23:58:52.602847",
     "status": "completed"
    },
    "tags": []
   },
   "outputs": [],
   "source": [
    "submission_df = pd.concat(test_event_dfs).reset_index(drop=True).reset_index(names=\"row_id\")\n",
    "submission_df.to_csv(\"submission.csv\", index=False)"
   ]
  },
  {
   "cell_type": "code",
   "execution_count": 27,
   "id": "5d8be3f4",
   "metadata": {
    "execution": {
     "iopub.execute_input": "2023-11-07T23:58:52.682484Z",
     "iopub.status.busy": "2023-11-07T23:58:52.682045Z",
     "iopub.status.idle": "2023-11-07T23:58:52.699065Z",
     "shell.execute_reply": "2023-11-07T23:58:52.697860Z"
    },
    "papermill": {
     "duration": 0.039616,
     "end_time": "2023-11-07T23:58:52.701638",
     "exception": false,
     "start_time": "2023-11-07T23:58:52.662022",
     "status": "completed"
    },
    "tags": []
   },
   "outputs": [
    {
     "data": {
      "text/html": [
       "<div>\n",
       "<style scoped>\n",
       "    .dataframe tbody tr th:only-of-type {\n",
       "        vertical-align: middle;\n",
       "    }\n",
       "\n",
       "    .dataframe tbody tr th {\n",
       "        vertical-align: top;\n",
       "    }\n",
       "\n",
       "    .dataframe thead th {\n",
       "        text-align: right;\n",
       "    }\n",
       "</style>\n",
       "<table border=\"1\" class=\"dataframe\">\n",
       "  <thead>\n",
       "    <tr style=\"text-align: right;\">\n",
       "      <th></th>\n",
       "      <th>row_id</th>\n",
       "      <th>step</th>\n",
       "      <th>series_id</th>\n",
       "      <th>event</th>\n",
       "      <th>score</th>\n",
       "    </tr>\n",
       "  </thead>\n",
       "  <tbody>\n",
       "  </tbody>\n",
       "</table>\n",
       "</div>"
      ],
      "text/plain": [
       "Empty DataFrame\n",
       "Columns: [row_id, step, series_id, event, score]\n",
       "Index: []"
      ]
     },
     "execution_count": 27,
     "metadata": {},
     "output_type": "execute_result"
    }
   ],
   "source": [
    "submission_df"
   ]
  }
 ],
 "metadata": {
  "kernelspec": {
   "display_name": "Python 3",
   "language": "python",
   "name": "python3"
  },
  "language_info": {
   "codemirror_mode": {
    "name": "ipython",
    "version": 3
   },
   "file_extension": ".py",
   "mimetype": "text/x-python",
   "name": "python",
   "nbconvert_exporter": "python",
   "pygments_lexer": "ipython3",
   "version": "3.10.12"
  },
  "papermill": {
   "default_parameters": {},
   "duration": 3496.591092,
   "end_time": "2023-11-07T23:58:56.889188",
   "environment_variables": {},
   "exception": null,
   "input_path": "__notebook__.ipynb",
   "output_path": "__notebook__.ipynb",
   "parameters": {},
   "start_time": "2023-11-07T23:00:40.298096",
   "version": "2.4.0"
  },
  "widgets": {
   "application/vnd.jupyter.widget-state+json": {
    "state": {
     "10345074e2224e0997088927012c2d83": {
      "model_module": "@jupyter-widgets/controls",
      "model_module_version": "1.5.0",
      "model_name": "DescriptionStyleModel",
      "state": {
       "_model_module": "@jupyter-widgets/controls",
       "_model_module_version": "1.5.0",
       "_model_name": "DescriptionStyleModel",
       "_view_count": null,
       "_view_module": "@jupyter-widgets/base",
       "_view_module_version": "1.2.0",
       "_view_name": "StyleView",
       "description_width": ""
      }
     },
     "11ac1a888ac2416099d2114879bcb45b": {
      "model_module": "@jupyter-widgets/base",
      "model_module_version": "1.2.0",
      "model_name": "LayoutModel",
      "state": {
       "_model_module": "@jupyter-widgets/base",
       "_model_module_version": "1.2.0",
       "_model_name": "LayoutModel",
       "_view_count": null,
       "_view_module": "@jupyter-widgets/base",
       "_view_module_version": "1.2.0",
       "_view_name": "LayoutView",
       "align_content": null,
       "align_items": null,
       "align_self": null,
       "border": null,
       "bottom": null,
       "display": null,
       "flex": null,
       "flex_flow": null,
       "grid_area": null,
       "grid_auto_columns": null,
       "grid_auto_flow": null,
       "grid_auto_rows": null,
       "grid_column": null,
       "grid_gap": null,
       "grid_row": null,
       "grid_template_areas": null,
       "grid_template_columns": null,
       "grid_template_rows": null,
       "height": null,
       "justify_content": null,
       "justify_items": null,
       "left": null,
       "margin": null,
       "max_height": null,
       "max_width": null,
       "min_height": null,
       "min_width": null,
       "object_fit": null,
       "object_position": null,
       "order": null,
       "overflow": null,
       "overflow_x": null,
       "overflow_y": null,
       "padding": null,
       "right": null,
       "top": null,
       "visibility": null,
       "width": null
      }
     },
     "14ffacc9ba3d446097f23695418e1900": {
      "model_module": "@jupyter-widgets/base",
      "model_module_version": "1.2.0",
      "model_name": "LayoutModel",
      "state": {
       "_model_module": "@jupyter-widgets/base",
       "_model_module_version": "1.2.0",
       "_model_name": "LayoutModel",
       "_view_count": null,
       "_view_module": "@jupyter-widgets/base",
       "_view_module_version": "1.2.0",
       "_view_name": "LayoutView",
       "align_content": null,
       "align_items": null,
       "align_self": null,
       "border": null,
       "bottom": null,
       "display": null,
       "flex": null,
       "flex_flow": null,
       "grid_area": null,
       "grid_auto_columns": null,
       "grid_auto_flow": null,
       "grid_auto_rows": null,
       "grid_column": null,
       "grid_gap": null,
       "grid_row": null,
       "grid_template_areas": null,
       "grid_template_columns": null,
       "grid_template_rows": null,
       "height": null,
       "justify_content": null,
       "justify_items": null,
       "left": null,
       "margin": null,
       "max_height": null,
       "max_width": null,
       "min_height": null,
       "min_width": null,
       "object_fit": null,
       "object_position": null,
       "order": null,
       "overflow": null,
       "overflow_x": null,
       "overflow_y": null,
       "padding": null,
       "right": null,
       "top": null,
       "visibility": null,
       "width": null
      }
     },
     "150d20483dd940f3821f7df55acc9dad": {
      "model_module": "@jupyter-widgets/controls",
      "model_module_version": "1.5.0",
      "model_name": "HTMLModel",
      "state": {
       "_dom_classes": [],
       "_model_module": "@jupyter-widgets/controls",
       "_model_module_version": "1.5.0",
       "_model_name": "HTMLModel",
       "_view_count": null,
       "_view_module": "@jupyter-widgets/controls",
       "_view_module_version": "1.5.0",
       "_view_name": "HTMLView",
       "description": "",
       "description_tooltip": null,
       "layout": "IPY_MODEL_11ac1a888ac2416099d2114879bcb45b",
       "placeholder": "​",
       "style": "IPY_MODEL_df248c4d49264b528eaed905ed05b562",
       "value": " 269/269 [01:20&lt;00:00,  3.26it/s]"
      }
     },
     "255397fbd31a46bea1199e529430c603": {
      "model_module": "@jupyter-widgets/controls",
      "model_module_version": "1.5.0",
      "model_name": "DescriptionStyleModel",
      "state": {
       "_model_module": "@jupyter-widgets/controls",
       "_model_module_version": "1.5.0",
       "_model_name": "DescriptionStyleModel",
       "_view_count": null,
       "_view_module": "@jupyter-widgets/base",
       "_view_module_version": "1.2.0",
       "_view_name": "StyleView",
       "description_width": ""
      }
     },
     "289050561d314b1daf2db28e06869bfe": {
      "model_module": "@jupyter-widgets/controls",
      "model_module_version": "1.5.0",
      "model_name": "DescriptionStyleModel",
      "state": {
       "_model_module": "@jupyter-widgets/controls",
       "_model_module_version": "1.5.0",
       "_model_name": "DescriptionStyleModel",
       "_view_count": null,
       "_view_module": "@jupyter-widgets/base",
       "_view_module_version": "1.2.0",
       "_view_name": "StyleView",
       "description_width": ""
      }
     },
     "29d81a41ed894c51b67c8afa3f15dc63": {
      "model_module": "@jupyter-widgets/controls",
      "model_module_version": "1.5.0",
      "model_name": "HTMLModel",
      "state": {
       "_dom_classes": [],
       "_model_module": "@jupyter-widgets/controls",
       "_model_module_version": "1.5.0",
       "_model_name": "HTMLModel",
       "_view_count": null,
       "_view_module": "@jupyter-widgets/controls",
       "_view_module_version": "1.5.0",
       "_view_name": "HTMLView",
       "description": "",
       "description_tooltip": null,
       "layout": "IPY_MODEL_5d1f9886232f493db9572ecd5bd0b932",
       "placeholder": "​",
       "style": "IPY_MODEL_a96c9c6437fe4d50a6856f670841f1d1",
       "value": "100%"
      }
     },
     "2b07712710fe4cefa64a6dcae9d74db6": {
      "model_module": "@jupyter-widgets/base",
      "model_module_version": "1.2.0",
      "model_name": "LayoutModel",
      "state": {
       "_model_module": "@jupyter-widgets/base",
       "_model_module_version": "1.2.0",
       "_model_name": "LayoutModel",
       "_view_count": null,
       "_view_module": "@jupyter-widgets/base",
       "_view_module_version": "1.2.0",
       "_view_name": "LayoutView",
       "align_content": null,
       "align_items": null,
       "align_self": null,
       "border": null,
       "bottom": null,
       "display": null,
       "flex": null,
       "flex_flow": null,
       "grid_area": null,
       "grid_auto_columns": null,
       "grid_auto_flow": null,
       "grid_auto_rows": null,
       "grid_column": null,
       "grid_gap": null,
       "grid_row": null,
       "grid_template_areas": null,
       "grid_template_columns": null,
       "grid_template_rows": null,
       "height": null,
       "justify_content": null,
       "justify_items": null,
       "left": null,
       "margin": null,
       "max_height": null,
       "max_width": null,
       "min_height": null,
       "min_width": null,
       "object_fit": null,
       "object_position": null,
       "order": null,
       "overflow": null,
       "overflow_x": null,
       "overflow_y": null,
       "padding": null,
       "right": null,
       "top": null,
       "visibility": null,
       "width": null
      }
     },
     "2cbdf223e27f49af918ec2d00ccccaa3": {
      "model_module": "@jupyter-widgets/controls",
      "model_module_version": "1.5.0",
      "model_name": "HTMLModel",
      "state": {
       "_dom_classes": [],
       "_model_module": "@jupyter-widgets/controls",
       "_model_module_version": "1.5.0",
       "_model_name": "HTMLModel",
       "_view_count": null,
       "_view_module": "@jupyter-widgets/controls",
       "_view_module_version": "1.5.0",
       "_view_name": "HTMLView",
       "description": "",
       "description_tooltip": null,
       "layout": "IPY_MODEL_a4bd1d6958e246a48523a2551ae46032",
       "placeholder": "​",
       "style": "IPY_MODEL_b45c6a272c6b423a82c862cb988f20e8",
       "value": "100%"
      }
     },
     "33784023cd92431293c00cbcdd794eca": {
      "model_module": "@jupyter-widgets/base",
      "model_module_version": "1.2.0",
      "model_name": "LayoutModel",
      "state": {
       "_model_module": "@jupyter-widgets/base",
       "_model_module_version": "1.2.0",
       "_model_name": "LayoutModel",
       "_view_count": null,
       "_view_module": "@jupyter-widgets/base",
       "_view_module_version": "1.2.0",
       "_view_name": "LayoutView",
       "align_content": null,
       "align_items": null,
       "align_self": null,
       "border": null,
       "bottom": null,
       "display": null,
       "flex": null,
       "flex_flow": null,
       "grid_area": null,
       "grid_auto_columns": null,
       "grid_auto_flow": null,
       "grid_auto_rows": null,
       "grid_column": null,
       "grid_gap": null,
       "grid_row": null,
       "grid_template_areas": null,
       "grid_template_columns": null,
       "grid_template_rows": null,
       "height": null,
       "justify_content": null,
       "justify_items": null,
       "left": null,
       "margin": null,
       "max_height": null,
       "max_width": null,
       "min_height": null,
       "min_width": null,
       "object_fit": null,
       "object_position": null,
       "order": null,
       "overflow": null,
       "overflow_x": null,
       "overflow_y": null,
       "padding": null,
       "right": null,
       "top": null,
       "visibility": null,
       "width": null
      }
     },
     "369e3d75482249e7bc70ef852d281309": {
      "model_module": "@jupyter-widgets/base",
      "model_module_version": "1.2.0",
      "model_name": "LayoutModel",
      "state": {
       "_model_module": "@jupyter-widgets/base",
       "_model_module_version": "1.2.0",
       "_model_name": "LayoutModel",
       "_view_count": null,
       "_view_module": "@jupyter-widgets/base",
       "_view_module_version": "1.2.0",
       "_view_name": "LayoutView",
       "align_content": null,
       "align_items": null,
       "align_self": null,
       "border": null,
       "bottom": null,
       "display": null,
       "flex": null,
       "flex_flow": null,
       "grid_area": null,
       "grid_auto_columns": null,
       "grid_auto_flow": null,
       "grid_auto_rows": null,
       "grid_column": null,
       "grid_gap": null,
       "grid_row": null,
       "grid_template_areas": null,
       "grid_template_columns": null,
       "grid_template_rows": null,
       "height": null,
       "justify_content": null,
       "justify_items": null,
       "left": null,
       "margin": null,
       "max_height": null,
       "max_width": null,
       "min_height": null,
       "min_width": null,
       "object_fit": null,
       "object_position": null,
       "order": null,
       "overflow": null,
       "overflow_x": null,
       "overflow_y": null,
       "padding": null,
       "right": null,
       "top": null,
       "visibility": null,
       "width": null
      }
     },
     "3c7413a2ed1d4bd5b8d21fb9db946d6f": {
      "model_module": "@jupyter-widgets/base",
      "model_module_version": "1.2.0",
      "model_name": "LayoutModel",
      "state": {
       "_model_module": "@jupyter-widgets/base",
       "_model_module_version": "1.2.0",
       "_model_name": "LayoutModel",
       "_view_count": null,
       "_view_module": "@jupyter-widgets/base",
       "_view_module_version": "1.2.0",
       "_view_name": "LayoutView",
       "align_content": null,
       "align_items": null,
       "align_self": null,
       "border": null,
       "bottom": null,
       "display": null,
       "flex": null,
       "flex_flow": null,
       "grid_area": null,
       "grid_auto_columns": null,
       "grid_auto_flow": null,
       "grid_auto_rows": null,
       "grid_column": null,
       "grid_gap": null,
       "grid_row": null,
       "grid_template_areas": null,
       "grid_template_columns": null,
       "grid_template_rows": null,
       "height": null,
       "justify_content": null,
       "justify_items": null,
       "left": null,
       "margin": null,
       "max_height": null,
       "max_width": null,
       "min_height": null,
       "min_width": null,
       "object_fit": null,
       "object_position": null,
       "order": null,
       "overflow": null,
       "overflow_x": null,
       "overflow_y": null,
       "padding": null,
       "right": null,
       "top": null,
       "visibility": null,
       "width": null
      }
     },
     "41011394ed6943fa8989639da7b88283": {
      "model_module": "@jupyter-widgets/controls",
      "model_module_version": "1.5.0",
      "model_name": "DescriptionStyleModel",
      "state": {
       "_model_module": "@jupyter-widgets/controls",
       "_model_module_version": "1.5.0",
       "_model_name": "DescriptionStyleModel",
       "_view_count": null,
       "_view_module": "@jupyter-widgets/base",
       "_view_module_version": "1.2.0",
       "_view_name": "StyleView",
       "description_width": ""
      }
     },
     "44aa391b91f540af943870c15be9988b": {
      "model_module": "@jupyter-widgets/controls",
      "model_module_version": "1.5.0",
      "model_name": "HTMLModel",
      "state": {
       "_dom_classes": [],
       "_model_module": "@jupyter-widgets/controls",
       "_model_module_version": "1.5.0",
       "_model_name": "HTMLModel",
       "_view_count": null,
       "_view_module": "@jupyter-widgets/controls",
       "_view_module_version": "1.5.0",
       "_view_name": "HTMLView",
       "description": "",
       "description_tooltip": null,
       "layout": "IPY_MODEL_f0a7f26dc6c54a7ea7a7fdb3022cf0e9",
       "placeholder": "​",
       "style": "IPY_MODEL_255397fbd31a46bea1199e529430c603",
       "value": "100%"
      }
     },
     "4576f609eb714f40a7b439341929e215": {
      "model_module": "@jupyter-widgets/base",
      "model_module_version": "1.2.0",
      "model_name": "LayoutModel",
      "state": {
       "_model_module": "@jupyter-widgets/base",
       "_model_module_version": "1.2.0",
       "_model_name": "LayoutModel",
       "_view_count": null,
       "_view_module": "@jupyter-widgets/base",
       "_view_module_version": "1.2.0",
       "_view_name": "LayoutView",
       "align_content": null,
       "align_items": null,
       "align_self": null,
       "border": null,
       "bottom": null,
       "display": null,
       "flex": null,
       "flex_flow": null,
       "grid_area": null,
       "grid_auto_columns": null,
       "grid_auto_flow": null,
       "grid_auto_rows": null,
       "grid_column": null,
       "grid_gap": null,
       "grid_row": null,
       "grid_template_areas": null,
       "grid_template_columns": null,
       "grid_template_rows": null,
       "height": null,
       "justify_content": null,
       "justify_items": null,
       "left": null,
       "margin": null,
       "max_height": null,
       "max_width": null,
       "min_height": null,
       "min_width": null,
       "object_fit": null,
       "object_position": null,
       "order": null,
       "overflow": null,
       "overflow_x": null,
       "overflow_y": null,
       "padding": null,
       "right": null,
       "top": null,
       "visibility": null,
       "width": null
      }
     },
     "45d15f1bc61243fd838107cb4507b69a": {
      "model_module": "@jupyter-widgets/base",
      "model_module_version": "1.2.0",
      "model_name": "LayoutModel",
      "state": {
       "_model_module": "@jupyter-widgets/base",
       "_model_module_version": "1.2.0",
       "_model_name": "LayoutModel",
       "_view_count": null,
       "_view_module": "@jupyter-widgets/base",
       "_view_module_version": "1.2.0",
       "_view_name": "LayoutView",
       "align_content": null,
       "align_items": null,
       "align_self": null,
       "border": null,
       "bottom": null,
       "display": null,
       "flex": null,
       "flex_flow": null,
       "grid_area": null,
       "grid_auto_columns": null,
       "grid_auto_flow": null,
       "grid_auto_rows": null,
       "grid_column": null,
       "grid_gap": null,
       "grid_row": null,
       "grid_template_areas": null,
       "grid_template_columns": null,
       "grid_template_rows": null,
       "height": null,
       "justify_content": null,
       "justify_items": null,
       "left": null,
       "margin": null,
       "max_height": null,
       "max_width": null,
       "min_height": null,
       "min_width": null,
       "object_fit": null,
       "object_position": null,
       "order": null,
       "overflow": null,
       "overflow_x": null,
       "overflow_y": null,
       "padding": null,
       "right": null,
       "top": null,
       "visibility": null,
       "width": null
      }
     },
     "45ebae44ac8440bb9383c2e65a478020": {
      "model_module": "@jupyter-widgets/base",
      "model_module_version": "1.2.0",
      "model_name": "LayoutModel",
      "state": {
       "_model_module": "@jupyter-widgets/base",
       "_model_module_version": "1.2.0",
       "_model_name": "LayoutModel",
       "_view_count": null,
       "_view_module": "@jupyter-widgets/base",
       "_view_module_version": "1.2.0",
       "_view_name": "LayoutView",
       "align_content": null,
       "align_items": null,
       "align_self": null,
       "border": null,
       "bottom": null,
       "display": null,
       "flex": null,
       "flex_flow": null,
       "grid_area": null,
       "grid_auto_columns": null,
       "grid_auto_flow": null,
       "grid_auto_rows": null,
       "grid_column": null,
       "grid_gap": null,
       "grid_row": null,
       "grid_template_areas": null,
       "grid_template_columns": null,
       "grid_template_rows": null,
       "height": null,
       "justify_content": null,
       "justify_items": null,
       "left": null,
       "margin": null,
       "max_height": null,
       "max_width": null,
       "min_height": null,
       "min_width": null,
       "object_fit": null,
       "object_position": null,
       "order": null,
       "overflow": null,
       "overflow_x": null,
       "overflow_y": null,
       "padding": null,
       "right": null,
       "top": null,
       "visibility": null,
       "width": null
      }
     },
     "47d8318a1fd8448289918985c806a281": {
      "model_module": "@jupyter-widgets/base",
      "model_module_version": "1.2.0",
      "model_name": "LayoutModel",
      "state": {
       "_model_module": "@jupyter-widgets/base",
       "_model_module_version": "1.2.0",
       "_model_name": "LayoutModel",
       "_view_count": null,
       "_view_module": "@jupyter-widgets/base",
       "_view_module_version": "1.2.0",
       "_view_name": "LayoutView",
       "align_content": null,
       "align_items": null,
       "align_self": null,
       "border": null,
       "bottom": null,
       "display": null,
       "flex": null,
       "flex_flow": null,
       "grid_area": null,
       "grid_auto_columns": null,
       "grid_auto_flow": null,
       "grid_auto_rows": null,
       "grid_column": null,
       "grid_gap": null,
       "grid_row": null,
       "grid_template_areas": null,
       "grid_template_columns": null,
       "grid_template_rows": null,
       "height": null,
       "justify_content": null,
       "justify_items": null,
       "left": null,
       "margin": null,
       "max_height": null,
       "max_width": null,
       "min_height": null,
       "min_width": null,
       "object_fit": null,
       "object_position": null,
       "order": null,
       "overflow": null,
       "overflow_x": null,
       "overflow_y": null,
       "padding": null,
       "right": null,
       "top": null,
       "visibility": null,
       "width": null
      }
     },
     "538fe19a39da41d3baffab52cc657d66": {
      "model_module": "@jupyter-widgets/controls",
      "model_module_version": "1.5.0",
      "model_name": "ProgressStyleModel",
      "state": {
       "_model_module": "@jupyter-widgets/controls",
       "_model_module_version": "1.5.0",
       "_model_name": "ProgressStyleModel",
       "_view_count": null,
       "_view_module": "@jupyter-widgets/base",
       "_view_module_version": "1.2.0",
       "_view_name": "StyleView",
       "bar_color": null,
       "description_width": ""
      }
     },
     "5d1f9886232f493db9572ecd5bd0b932": {
      "model_module": "@jupyter-widgets/base",
      "model_module_version": "1.2.0",
      "model_name": "LayoutModel",
      "state": {
       "_model_module": "@jupyter-widgets/base",
       "_model_module_version": "1.2.0",
       "_model_name": "LayoutModel",
       "_view_count": null,
       "_view_module": "@jupyter-widgets/base",
       "_view_module_version": "1.2.0",
       "_view_name": "LayoutView",
       "align_content": null,
       "align_items": null,
       "align_self": null,
       "border": null,
       "bottom": null,
       "display": null,
       "flex": null,
       "flex_flow": null,
       "grid_area": null,
       "grid_auto_columns": null,
       "grid_auto_flow": null,
       "grid_auto_rows": null,
       "grid_column": null,
       "grid_gap": null,
       "grid_row": null,
       "grid_template_areas": null,
       "grid_template_columns": null,
       "grid_template_rows": null,
       "height": null,
       "justify_content": null,
       "justify_items": null,
       "left": null,
       "margin": null,
       "max_height": null,
       "max_width": null,
       "min_height": null,
       "min_width": null,
       "object_fit": null,
       "object_position": null,
       "order": null,
       "overflow": null,
       "overflow_x": null,
       "overflow_y": null,
       "padding": null,
       "right": null,
       "top": null,
       "visibility": null,
       "width": null
      }
     },
     "65cf727149f8441bbe0ece222784f74b": {
      "model_module": "@jupyter-widgets/controls",
      "model_module_version": "1.5.0",
      "model_name": "HBoxModel",
      "state": {
       "_dom_classes": [],
       "_model_module": "@jupyter-widgets/controls",
       "_model_module_version": "1.5.0",
       "_model_name": "HBoxModel",
       "_view_count": null,
       "_view_module": "@jupyter-widgets/controls",
       "_view_module_version": "1.5.0",
       "_view_name": "HBoxView",
       "box_style": "",
       "children": [
        "IPY_MODEL_29d81a41ed894c51b67c8afa3f15dc63",
        "IPY_MODEL_7d9592fd374a468c8106ba2f93158663",
        "IPY_MODEL_a45cf562fd2d4063a8ae25129193686c"
       ],
       "layout": "IPY_MODEL_ff8e71cd2ab64c8482f261f7148cbfee"
      }
     },
     "66dd457fef164be1b4c44019237a3b42": {
      "model_module": "@jupyter-widgets/controls",
      "model_module_version": "1.5.0",
      "model_name": "ProgressStyleModel",
      "state": {
       "_model_module": "@jupyter-widgets/controls",
       "_model_module_version": "1.5.0",
       "_model_name": "ProgressStyleModel",
       "_view_count": null,
       "_view_module": "@jupyter-widgets/base",
       "_view_module_version": "1.2.0",
       "_view_name": "StyleView",
       "bar_color": null,
       "description_width": ""
      }
     },
     "764dd72d671446879894ff3f9c35aff0": {
      "model_module": "@jupyter-widgets/controls",
      "model_module_version": "1.5.0",
      "model_name": "HBoxModel",
      "state": {
       "_dom_classes": [],
       "_model_module": "@jupyter-widgets/controls",
       "_model_module_version": "1.5.0",
       "_model_name": "HBoxModel",
       "_view_count": null,
       "_view_module": "@jupyter-widgets/controls",
       "_view_module_version": "1.5.0",
       "_view_name": "HBoxView",
       "box_style": "",
       "children": [
        "IPY_MODEL_8bf1d18b9c74479c81bad549c31691fa",
        "IPY_MODEL_917ae76f51fb4f9389b7303f900e87d4",
        "IPY_MODEL_d5a3101ea76a4719ba8746f60bf5ee21"
       ],
       "layout": "IPY_MODEL_c84f9cecc56549a28d32d99dfb375b32"
      }
     },
     "76ec563483ba4cd585c6cf3bcb5f6a31": {
      "model_module": "@jupyter-widgets/base",
      "model_module_version": "1.2.0",
      "model_name": "LayoutModel",
      "state": {
       "_model_module": "@jupyter-widgets/base",
       "_model_module_version": "1.2.0",
       "_model_name": "LayoutModel",
       "_view_count": null,
       "_view_module": "@jupyter-widgets/base",
       "_view_module_version": "1.2.0",
       "_view_name": "LayoutView",
       "align_content": null,
       "align_items": null,
       "align_self": null,
       "border": null,
       "bottom": null,
       "display": null,
       "flex": null,
       "flex_flow": null,
       "grid_area": null,
       "grid_auto_columns": null,
       "grid_auto_flow": null,
       "grid_auto_rows": null,
       "grid_column": null,
       "grid_gap": null,
       "grid_row": null,
       "grid_template_areas": null,
       "grid_template_columns": null,
       "grid_template_rows": null,
       "height": null,
       "justify_content": null,
       "justify_items": null,
       "left": null,
       "margin": null,
       "max_height": null,
       "max_width": null,
       "min_height": null,
       "min_width": null,
       "object_fit": null,
       "object_position": null,
       "order": null,
       "overflow": null,
       "overflow_x": null,
       "overflow_y": null,
       "padding": null,
       "right": null,
       "top": null,
       "visibility": null,
       "width": null
      }
     },
     "7a471a5e45194164977d2742a8dcdbd1": {
      "model_module": "@jupyter-widgets/base",
      "model_module_version": "1.2.0",
      "model_name": "LayoutModel",
      "state": {
       "_model_module": "@jupyter-widgets/base",
       "_model_module_version": "1.2.0",
       "_model_name": "LayoutModel",
       "_view_count": null,
       "_view_module": "@jupyter-widgets/base",
       "_view_module_version": "1.2.0",
       "_view_name": "LayoutView",
       "align_content": null,
       "align_items": null,
       "align_self": null,
       "border": null,
       "bottom": null,
       "display": null,
       "flex": null,
       "flex_flow": null,
       "grid_area": null,
       "grid_auto_columns": null,
       "grid_auto_flow": null,
       "grid_auto_rows": null,
       "grid_column": null,
       "grid_gap": null,
       "grid_row": null,
       "grid_template_areas": null,
       "grid_template_columns": null,
       "grid_template_rows": null,
       "height": null,
       "justify_content": null,
       "justify_items": null,
       "left": null,
       "margin": null,
       "max_height": null,
       "max_width": null,
       "min_height": null,
       "min_width": null,
       "object_fit": null,
       "object_position": null,
       "order": null,
       "overflow": null,
       "overflow_x": null,
       "overflow_y": null,
       "padding": null,
       "right": null,
       "top": null,
       "visibility": null,
       "width": null
      }
     },
     "7c2b12118bde41a8b9127e86186cb9aa": {
      "model_module": "@jupyter-widgets/base",
      "model_module_version": "1.2.0",
      "model_name": "LayoutModel",
      "state": {
       "_model_module": "@jupyter-widgets/base",
       "_model_module_version": "1.2.0",
       "_model_name": "LayoutModel",
       "_view_count": null,
       "_view_module": "@jupyter-widgets/base",
       "_view_module_version": "1.2.0",
       "_view_name": "LayoutView",
       "align_content": null,
       "align_items": null,
       "align_self": null,
       "border": null,
       "bottom": null,
       "display": null,
       "flex": null,
       "flex_flow": null,
       "grid_area": null,
       "grid_auto_columns": null,
       "grid_auto_flow": null,
       "grid_auto_rows": null,
       "grid_column": null,
       "grid_gap": null,
       "grid_row": null,
       "grid_template_areas": null,
       "grid_template_columns": null,
       "grid_template_rows": null,
       "height": null,
       "justify_content": null,
       "justify_items": null,
       "left": null,
       "margin": null,
       "max_height": null,
       "max_width": null,
       "min_height": null,
       "min_width": null,
       "object_fit": null,
       "object_position": null,
       "order": null,
       "overflow": null,
       "overflow_x": null,
       "overflow_y": null,
       "padding": null,
       "right": null,
       "top": null,
       "visibility": null,
       "width": null
      }
     },
     "7d9592fd374a468c8106ba2f93158663": {
      "model_module": "@jupyter-widgets/controls",
      "model_module_version": "1.5.0",
      "model_name": "FloatProgressModel",
      "state": {
       "_dom_classes": [],
       "_model_module": "@jupyter-widgets/controls",
       "_model_module_version": "1.5.0",
       "_model_name": "FloatProgressModel",
       "_view_count": null,
       "_view_module": "@jupyter-widgets/controls",
       "_view_module_version": "1.5.0",
       "_view_name": "ProgressView",
       "bar_style": "success",
       "description": "",
       "description_tooltip": null,
       "layout": "IPY_MODEL_a68a70c778e744b0af9aabc1704b414b",
       "max": 277.0,
       "min": 0.0,
       "orientation": "horizontal",
       "style": "IPY_MODEL_f1d04ad40a4c4c8290c49a3fe47b11f0",
       "value": 277.0
      }
     },
     "891a7df96ea142d7988d5c47a0d9a4ad": {
      "model_module": "@jupyter-widgets/controls",
      "model_module_version": "1.5.0",
      "model_name": "FloatProgressModel",
      "state": {
       "_dom_classes": [],
       "_model_module": "@jupyter-widgets/controls",
       "_model_module_version": "1.5.0",
       "_model_name": "FloatProgressModel",
       "_view_count": null,
       "_view_module": "@jupyter-widgets/controls",
       "_view_module_version": "1.5.0",
       "_view_name": "ProgressView",
       "bar_style": "success",
       "description": "",
       "description_tooltip": null,
       "layout": "IPY_MODEL_7a471a5e45194164977d2742a8dcdbd1",
       "max": 3.0,
       "min": 0.0,
       "orientation": "horizontal",
       "style": "IPY_MODEL_538fe19a39da41d3baffab52cc657d66",
       "value": 3.0
      }
     },
     "8a3b5d439c53448a9fa7f986dee344b5": {
      "model_module": "@jupyter-widgets/base",
      "model_module_version": "1.2.0",
      "model_name": "LayoutModel",
      "state": {
       "_model_module": "@jupyter-widgets/base",
       "_model_module_version": "1.2.0",
       "_model_name": "LayoutModel",
       "_view_count": null,
       "_view_module": "@jupyter-widgets/base",
       "_view_module_version": "1.2.0",
       "_view_name": "LayoutView",
       "align_content": null,
       "align_items": null,
       "align_self": null,
       "border": null,
       "bottom": null,
       "display": null,
       "flex": null,
       "flex_flow": null,
       "grid_area": null,
       "grid_auto_columns": null,
       "grid_auto_flow": null,
       "grid_auto_rows": null,
       "grid_column": null,
       "grid_gap": null,
       "grid_row": null,
       "grid_template_areas": null,
       "grid_template_columns": null,
       "grid_template_rows": null,
       "height": null,
       "justify_content": null,
       "justify_items": null,
       "left": null,
       "margin": null,
       "max_height": null,
       "max_width": null,
       "min_height": null,
       "min_width": null,
       "object_fit": null,
       "object_position": null,
       "order": null,
       "overflow": null,
       "overflow_x": null,
       "overflow_y": null,
       "padding": null,
       "right": null,
       "top": null,
       "visibility": null,
       "width": null
      }
     },
     "8bf1d18b9c74479c81bad549c31691fa": {
      "model_module": "@jupyter-widgets/controls",
      "model_module_version": "1.5.0",
      "model_name": "HTMLModel",
      "state": {
       "_dom_classes": [],
       "_model_module": "@jupyter-widgets/controls",
       "_model_module_version": "1.5.0",
       "_model_name": "HTMLModel",
       "_view_count": null,
       "_view_module": "@jupyter-widgets/controls",
       "_view_module_version": "1.5.0",
       "_view_name": "HTMLView",
       "description": "",
       "description_tooltip": null,
       "layout": "IPY_MODEL_8a3b5d439c53448a9fa7f986dee344b5",
       "placeholder": "​",
       "style": "IPY_MODEL_10345074e2224e0997088927012c2d83",
       "value": "100%"
      }
     },
     "90d9b0b130364539acd584bef7ae8382": {
      "model_module": "@jupyter-widgets/controls",
      "model_module_version": "1.5.0",
      "model_name": "FloatProgressModel",
      "state": {
       "_dom_classes": [],
       "_model_module": "@jupyter-widgets/controls",
       "_model_module_version": "1.5.0",
       "_model_name": "FloatProgressModel",
       "_view_count": null,
       "_view_module": "@jupyter-widgets/controls",
       "_view_module_version": "1.5.0",
       "_view_name": "ProgressView",
       "bar_style": "success",
       "description": "",
       "description_tooltip": null,
       "layout": "IPY_MODEL_45ebae44ac8440bb9383c2e65a478020",
       "max": 3.0,
       "min": 0.0,
       "orientation": "horizontal",
       "style": "IPY_MODEL_934eb14e07164b69874c7298509c5afe",
       "value": 3.0
      }
     },
     "917ae76f51fb4f9389b7303f900e87d4": {
      "model_module": "@jupyter-widgets/controls",
      "model_module_version": "1.5.0",
      "model_name": "FloatProgressModel",
      "state": {
       "_dom_classes": [],
       "_model_module": "@jupyter-widgets/controls",
       "_model_module_version": "1.5.0",
       "_model_name": "FloatProgressModel",
       "_view_count": null,
       "_view_module": "@jupyter-widgets/controls",
       "_view_module_version": "1.5.0",
       "_view_name": "ProgressView",
       "bar_style": "success",
       "description": "",
       "description_tooltip": null,
       "layout": "IPY_MODEL_f8b23bc23c9441c88f45c969869d3676",
       "max": 3.0,
       "min": 0.0,
       "orientation": "horizontal",
       "style": "IPY_MODEL_66dd457fef164be1b4c44019237a3b42",
       "value": 3.0
      }
     },
     "934eb14e07164b69874c7298509c5afe": {
      "model_module": "@jupyter-widgets/controls",
      "model_module_version": "1.5.0",
      "model_name": "ProgressStyleModel",
      "state": {
       "_model_module": "@jupyter-widgets/controls",
       "_model_module_version": "1.5.0",
       "_model_name": "ProgressStyleModel",
       "_view_count": null,
       "_view_module": "@jupyter-widgets/base",
       "_view_module_version": "1.2.0",
       "_view_name": "StyleView",
       "bar_color": null,
       "description_width": ""
      }
     },
     "9caa6a5f2a4e4b4c80b404a2595e1c64": {
      "model_module": "@jupyter-widgets/controls",
      "model_module_version": "1.5.0",
      "model_name": "DescriptionStyleModel",
      "state": {
       "_model_module": "@jupyter-widgets/controls",
       "_model_module_version": "1.5.0",
       "_model_name": "DescriptionStyleModel",
       "_view_count": null,
       "_view_module": "@jupyter-widgets/base",
       "_view_module_version": "1.2.0",
       "_view_name": "StyleView",
       "description_width": ""
      }
     },
     "9fcb2fccfce04e66a0590ec495f0d3bb": {
      "model_module": "@jupyter-widgets/controls",
      "model_module_version": "1.5.0",
      "model_name": "HBoxModel",
      "state": {
       "_dom_classes": [],
       "_model_module": "@jupyter-widgets/controls",
       "_model_module_version": "1.5.0",
       "_model_name": "HBoxModel",
       "_view_count": null,
       "_view_module": "@jupyter-widgets/controls",
       "_view_module_version": "1.5.0",
       "_view_name": "HBoxView",
       "box_style": "",
       "children": [
        "IPY_MODEL_e8132b7b89874721a4b409570513fae4",
        "IPY_MODEL_a76e50454b75464987d7b205487742a3",
        "IPY_MODEL_fa51042a87d04a2a93889c8836f63b01"
       ],
       "layout": "IPY_MODEL_14ffacc9ba3d446097f23695418e1900"
      }
     },
     "a45cf562fd2d4063a8ae25129193686c": {
      "model_module": "@jupyter-widgets/controls",
      "model_module_version": "1.5.0",
      "model_name": "HTMLModel",
      "state": {
       "_dom_classes": [],
       "_model_module": "@jupyter-widgets/controls",
       "_model_module_version": "1.5.0",
       "_model_name": "HTMLModel",
       "_view_count": null,
       "_view_module": "@jupyter-widgets/controls",
       "_view_module_version": "1.5.0",
       "_view_name": "HTMLView",
       "description": "",
       "description_tooltip": null,
       "layout": "IPY_MODEL_fc50136e17064d7d9f1a954fa8459e92",
       "placeholder": "​",
       "style": "IPY_MODEL_fbfdc4e029b24e7ab5f2c6099178f013",
       "value": " 277/277 [02:23&lt;00:00,  1.77it/s]"
      }
     },
     "a4bd1d6958e246a48523a2551ae46032": {
      "model_module": "@jupyter-widgets/base",
      "model_module_version": "1.2.0",
      "model_name": "LayoutModel",
      "state": {
       "_model_module": "@jupyter-widgets/base",
       "_model_module_version": "1.2.0",
       "_model_name": "LayoutModel",
       "_view_count": null,
       "_view_module": "@jupyter-widgets/base",
       "_view_module_version": "1.2.0",
       "_view_name": "LayoutView",
       "align_content": null,
       "align_items": null,
       "align_self": null,
       "border": null,
       "bottom": null,
       "display": null,
       "flex": null,
       "flex_flow": null,
       "grid_area": null,
       "grid_auto_columns": null,
       "grid_auto_flow": null,
       "grid_auto_rows": null,
       "grid_column": null,
       "grid_gap": null,
       "grid_row": null,
       "grid_template_areas": null,
       "grid_template_columns": null,
       "grid_template_rows": null,
       "height": null,
       "justify_content": null,
       "justify_items": null,
       "left": null,
       "margin": null,
       "max_height": null,
       "max_width": null,
       "min_height": null,
       "min_width": null,
       "object_fit": null,
       "object_position": null,
       "order": null,
       "overflow": null,
       "overflow_x": null,
       "overflow_y": null,
       "padding": null,
       "right": null,
       "top": null,
       "visibility": null,
       "width": null
      }
     },
     "a68a70c778e744b0af9aabc1704b414b": {
      "model_module": "@jupyter-widgets/base",
      "model_module_version": "1.2.0",
      "model_name": "LayoutModel",
      "state": {
       "_model_module": "@jupyter-widgets/base",
       "_model_module_version": "1.2.0",
       "_model_name": "LayoutModel",
       "_view_count": null,
       "_view_module": "@jupyter-widgets/base",
       "_view_module_version": "1.2.0",
       "_view_name": "LayoutView",
       "align_content": null,
       "align_items": null,
       "align_self": null,
       "border": null,
       "bottom": null,
       "display": null,
       "flex": null,
       "flex_flow": null,
       "grid_area": null,
       "grid_auto_columns": null,
       "grid_auto_flow": null,
       "grid_auto_rows": null,
       "grid_column": null,
       "grid_gap": null,
       "grid_row": null,
       "grid_template_areas": null,
       "grid_template_columns": null,
       "grid_template_rows": null,
       "height": null,
       "justify_content": null,
       "justify_items": null,
       "left": null,
       "margin": null,
       "max_height": null,
       "max_width": null,
       "min_height": null,
       "min_width": null,
       "object_fit": null,
       "object_position": null,
       "order": null,
       "overflow": null,
       "overflow_x": null,
       "overflow_y": null,
       "padding": null,
       "right": null,
       "top": null,
       "visibility": null,
       "width": null
      }
     },
     "a76e50454b75464987d7b205487742a3": {
      "model_module": "@jupyter-widgets/controls",
      "model_module_version": "1.5.0",
      "model_name": "FloatProgressModel",
      "state": {
       "_dom_classes": [],
       "_model_module": "@jupyter-widgets/controls",
       "_model_module_version": "1.5.0",
       "_model_name": "FloatProgressModel",
       "_view_count": null,
       "_view_module": "@jupyter-widgets/controls",
       "_view_module_version": "1.5.0",
       "_view_name": "ProgressView",
       "bar_style": "success",
       "description": "",
       "description_tooltip": null,
       "layout": "IPY_MODEL_fc87bedc1dc0483a8e0ad89eda85ecba",
       "max": 269.0,
       "min": 0.0,
       "orientation": "horizontal",
       "style": "IPY_MODEL_fc5d0c0506e443f9a79a5d845f58476e",
       "value": 269.0
      }
     },
     "a96c9c6437fe4d50a6856f670841f1d1": {
      "model_module": "@jupyter-widgets/controls",
      "model_module_version": "1.5.0",
      "model_name": "DescriptionStyleModel",
      "state": {
       "_model_module": "@jupyter-widgets/controls",
       "_model_module_version": "1.5.0",
       "_model_name": "DescriptionStyleModel",
       "_view_count": null,
       "_view_module": "@jupyter-widgets/base",
       "_view_module_version": "1.2.0",
       "_view_name": "StyleView",
       "description_width": ""
      }
     },
     "abe700c6e2d7472e93af559a2aad672c": {
      "model_module": "@jupyter-widgets/controls",
      "model_module_version": "1.5.0",
      "model_name": "HBoxModel",
      "state": {
       "_dom_classes": [],
       "_model_module": "@jupyter-widgets/controls",
       "_model_module_version": "1.5.0",
       "_model_name": "HBoxModel",
       "_view_count": null,
       "_view_module": "@jupyter-widgets/controls",
       "_view_module_version": "1.5.0",
       "_view_name": "HBoxView",
       "box_style": "",
       "children": [
        "IPY_MODEL_efd338248db94da1bd5ff2997367bd08",
        "IPY_MODEL_b95a02793e554cc3a4062d63ad82e422",
        "IPY_MODEL_150d20483dd940f3821f7df55acc9dad"
       ],
       "layout": "IPY_MODEL_47d8318a1fd8448289918985c806a281"
      }
     },
     "b45c6a272c6b423a82c862cb988f20e8": {
      "model_module": "@jupyter-widgets/controls",
      "model_module_version": "1.5.0",
      "model_name": "DescriptionStyleModel",
      "state": {
       "_model_module": "@jupyter-widgets/controls",
       "_model_module_version": "1.5.0",
       "_model_name": "DescriptionStyleModel",
       "_view_count": null,
       "_view_module": "@jupyter-widgets/base",
       "_view_module_version": "1.2.0",
       "_view_name": "StyleView",
       "description_width": ""
      }
     },
     "b83f60af2c5447a28f0dfffe4b6445a0": {
      "model_module": "@jupyter-widgets/controls",
      "model_module_version": "1.5.0",
      "model_name": "HTMLModel",
      "state": {
       "_dom_classes": [],
       "_model_module": "@jupyter-widgets/controls",
       "_model_module_version": "1.5.0",
       "_model_name": "HTMLModel",
       "_view_count": null,
       "_view_module": "@jupyter-widgets/controls",
       "_view_module_version": "1.5.0",
       "_view_name": "HTMLView",
       "description": "",
       "description_tooltip": null,
       "layout": "IPY_MODEL_76ec563483ba4cd585c6cf3bcb5f6a31",
       "placeholder": "​",
       "style": "IPY_MODEL_e044645e4c6e4228916240a5dd552933",
       "value": " 3/3 [00:00&lt;00:00, 14.10it/s]"
      }
     },
     "b95a02793e554cc3a4062d63ad82e422": {
      "model_module": "@jupyter-widgets/controls",
      "model_module_version": "1.5.0",
      "model_name": "FloatProgressModel",
      "state": {
       "_dom_classes": [],
       "_model_module": "@jupyter-widgets/controls",
       "_model_module_version": "1.5.0",
       "_model_name": "FloatProgressModel",
       "_view_count": null,
       "_view_module": "@jupyter-widgets/controls",
       "_view_module_version": "1.5.0",
       "_view_name": "ProgressView",
       "bar_style": "success",
       "description": "",
       "description_tooltip": null,
       "layout": "IPY_MODEL_4576f609eb714f40a7b439341929e215",
       "max": 269.0,
       "min": 0.0,
       "orientation": "horizontal",
       "style": "IPY_MODEL_d7e7635920034e61b2c2adf29ad10a82",
       "value": 269.0
      }
     },
     "b9e0c23120bc45cbbabf4151b2c0cb54": {
      "model_module": "@jupyter-widgets/controls",
      "model_module_version": "1.5.0",
      "model_name": "HBoxModel",
      "state": {
       "_dom_classes": [],
       "_model_module": "@jupyter-widgets/controls",
       "_model_module_version": "1.5.0",
       "_model_name": "HBoxModel",
       "_view_count": null,
       "_view_module": "@jupyter-widgets/controls",
       "_view_module_version": "1.5.0",
       "_view_name": "HBoxView",
       "box_style": "",
       "children": [
        "IPY_MODEL_2cbdf223e27f49af918ec2d00ccccaa3",
        "IPY_MODEL_90d9b0b130364539acd584bef7ae8382",
        "IPY_MODEL_b83f60af2c5447a28f0dfffe4b6445a0"
       ],
       "layout": "IPY_MODEL_3c7413a2ed1d4bd5b8d21fb9db946d6f"
      }
     },
     "c0a940f40d184af98541fd89306767cf": {
      "model_module": "@jupyter-widgets/controls",
      "model_module_version": "1.5.0",
      "model_name": "HTMLModel",
      "state": {
       "_dom_classes": [],
       "_model_module": "@jupyter-widgets/controls",
       "_model_module_version": "1.5.0",
       "_model_name": "HTMLModel",
       "_view_count": null,
       "_view_module": "@jupyter-widgets/controls",
       "_view_module_version": "1.5.0",
       "_view_name": "HTMLView",
       "description": "",
       "description_tooltip": null,
       "layout": "IPY_MODEL_2b07712710fe4cefa64a6dcae9d74db6",
       "placeholder": "​",
       "style": "IPY_MODEL_289050561d314b1daf2db28e06869bfe",
       "value": " 3/3 [00:00&lt;00:00, 47.30it/s]"
      }
     },
     "c2e5f73a82764c1cae27a953acab7cb8": {
      "model_module": "@jupyter-widgets/base",
      "model_module_version": "1.2.0",
      "model_name": "LayoutModel",
      "state": {
       "_model_module": "@jupyter-widgets/base",
       "_model_module_version": "1.2.0",
       "_model_name": "LayoutModel",
       "_view_count": null,
       "_view_module": "@jupyter-widgets/base",
       "_view_module_version": "1.2.0",
       "_view_name": "LayoutView",
       "align_content": null,
       "align_items": null,
       "align_self": null,
       "border": null,
       "bottom": null,
       "display": null,
       "flex": null,
       "flex_flow": null,
       "grid_area": null,
       "grid_auto_columns": null,
       "grid_auto_flow": null,
       "grid_auto_rows": null,
       "grid_column": null,
       "grid_gap": null,
       "grid_row": null,
       "grid_template_areas": null,
       "grid_template_columns": null,
       "grid_template_rows": null,
       "height": null,
       "justify_content": null,
       "justify_items": null,
       "left": null,
       "margin": null,
       "max_height": null,
       "max_width": null,
       "min_height": null,
       "min_width": null,
       "object_fit": null,
       "object_position": null,
       "order": null,
       "overflow": null,
       "overflow_x": null,
       "overflow_y": null,
       "padding": null,
       "right": null,
       "top": null,
       "visibility": null,
       "width": null
      }
     },
     "c84f9cecc56549a28d32d99dfb375b32": {
      "model_module": "@jupyter-widgets/base",
      "model_module_version": "1.2.0",
      "model_name": "LayoutModel",
      "state": {
       "_model_module": "@jupyter-widgets/base",
       "_model_module_version": "1.2.0",
       "_model_name": "LayoutModel",
       "_view_count": null,
       "_view_module": "@jupyter-widgets/base",
       "_view_module_version": "1.2.0",
       "_view_name": "LayoutView",
       "align_content": null,
       "align_items": null,
       "align_self": null,
       "border": null,
       "bottom": null,
       "display": null,
       "flex": null,
       "flex_flow": null,
       "grid_area": null,
       "grid_auto_columns": null,
       "grid_auto_flow": null,
       "grid_auto_rows": null,
       "grid_column": null,
       "grid_gap": null,
       "grid_row": null,
       "grid_template_areas": null,
       "grid_template_columns": null,
       "grid_template_rows": null,
       "height": null,
       "justify_content": null,
       "justify_items": null,
       "left": null,
       "margin": null,
       "max_height": null,
       "max_width": null,
       "min_height": null,
       "min_width": null,
       "object_fit": null,
       "object_position": null,
       "order": null,
       "overflow": null,
       "overflow_x": null,
       "overflow_y": null,
       "padding": null,
       "right": null,
       "top": null,
       "visibility": null,
       "width": null
      }
     },
     "d2ae557c00794ad2906506fae07ac5d9": {
      "model_module": "@jupyter-widgets/controls",
      "model_module_version": "1.5.0",
      "model_name": "DescriptionStyleModel",
      "state": {
       "_model_module": "@jupyter-widgets/controls",
       "_model_module_version": "1.5.0",
       "_model_name": "DescriptionStyleModel",
       "_view_count": null,
       "_view_module": "@jupyter-widgets/base",
       "_view_module_version": "1.2.0",
       "_view_name": "StyleView",
       "description_width": ""
      }
     },
     "d5a3101ea76a4719ba8746f60bf5ee21": {
      "model_module": "@jupyter-widgets/controls",
      "model_module_version": "1.5.0",
      "model_name": "HTMLModel",
      "state": {
       "_dom_classes": [],
       "_model_module": "@jupyter-widgets/controls",
       "_model_module_version": "1.5.0",
       "_model_name": "HTMLModel",
       "_view_count": null,
       "_view_module": "@jupyter-widgets/controls",
       "_view_module_version": "1.5.0",
       "_view_name": "HTMLView",
       "description": "",
       "description_tooltip": null,
       "layout": "IPY_MODEL_c2e5f73a82764c1cae27a953acab7cb8",
       "placeholder": "​",
       "style": "IPY_MODEL_9caa6a5f2a4e4b4c80b404a2595e1c64",
       "value": " 3/3 [00:00&lt;00:00, 29.63it/s]"
      }
     },
     "d7e7635920034e61b2c2adf29ad10a82": {
      "model_module": "@jupyter-widgets/controls",
      "model_module_version": "1.5.0",
      "model_name": "ProgressStyleModel",
      "state": {
       "_model_module": "@jupyter-widgets/controls",
       "_model_module_version": "1.5.0",
       "_model_name": "ProgressStyleModel",
       "_view_count": null,
       "_view_module": "@jupyter-widgets/base",
       "_view_module_version": "1.2.0",
       "_view_name": "StyleView",
       "bar_color": null,
       "description_width": ""
      }
     },
     "df248c4d49264b528eaed905ed05b562": {
      "model_module": "@jupyter-widgets/controls",
      "model_module_version": "1.5.0",
      "model_name": "DescriptionStyleModel",
      "state": {
       "_model_module": "@jupyter-widgets/controls",
       "_model_module_version": "1.5.0",
       "_model_name": "DescriptionStyleModel",
       "_view_count": null,
       "_view_module": "@jupyter-widgets/base",
       "_view_module_version": "1.2.0",
       "_view_name": "StyleView",
       "description_width": ""
      }
     },
     "e044645e4c6e4228916240a5dd552933": {
      "model_module": "@jupyter-widgets/controls",
      "model_module_version": "1.5.0",
      "model_name": "DescriptionStyleModel",
      "state": {
       "_model_module": "@jupyter-widgets/controls",
       "_model_module_version": "1.5.0",
       "_model_name": "DescriptionStyleModel",
       "_view_count": null,
       "_view_module": "@jupyter-widgets/base",
       "_view_module_version": "1.2.0",
       "_view_name": "StyleView",
       "description_width": ""
      }
     },
     "e33077816116497bab1e5797d129f28d": {
      "model_module": "@jupyter-widgets/controls",
      "model_module_version": "1.5.0",
      "model_name": "HBoxModel",
      "state": {
       "_dom_classes": [],
       "_model_module": "@jupyter-widgets/controls",
       "_model_module_version": "1.5.0",
       "_model_name": "HBoxModel",
       "_view_count": null,
       "_view_module": "@jupyter-widgets/controls",
       "_view_module_version": "1.5.0",
       "_view_name": "HBoxView",
       "box_style": "",
       "children": [
        "IPY_MODEL_44aa391b91f540af943870c15be9988b",
        "IPY_MODEL_891a7df96ea142d7988d5c47a0d9a4ad",
        "IPY_MODEL_c0a940f40d184af98541fd89306767cf"
       ],
       "layout": "IPY_MODEL_369e3d75482249e7bc70ef852d281309"
      }
     },
     "e8132b7b89874721a4b409570513fae4": {
      "model_module": "@jupyter-widgets/controls",
      "model_module_version": "1.5.0",
      "model_name": "HTMLModel",
      "state": {
       "_dom_classes": [],
       "_model_module": "@jupyter-widgets/controls",
       "_model_module_version": "1.5.0",
       "_model_name": "HTMLModel",
       "_view_count": null,
       "_view_module": "@jupyter-widgets/controls",
       "_view_module_version": "1.5.0",
       "_view_name": "HTMLView",
       "description": "",
       "description_tooltip": null,
       "layout": "IPY_MODEL_7c2b12118bde41a8b9127e86186cb9aa",
       "placeholder": "​",
       "style": "IPY_MODEL_d2ae557c00794ad2906506fae07ac5d9",
       "value": "100%"
      }
     },
     "eea4d16a9f9b44c498b0d89b3eb1f087": {
      "model_module": "@jupyter-widgets/controls",
      "model_module_version": "1.5.0",
      "model_name": "DescriptionStyleModel",
      "state": {
       "_model_module": "@jupyter-widgets/controls",
       "_model_module_version": "1.5.0",
       "_model_name": "DescriptionStyleModel",
       "_view_count": null,
       "_view_module": "@jupyter-widgets/base",
       "_view_module_version": "1.2.0",
       "_view_name": "StyleView",
       "description_width": ""
      }
     },
     "efd338248db94da1bd5ff2997367bd08": {
      "model_module": "@jupyter-widgets/controls",
      "model_module_version": "1.5.0",
      "model_name": "HTMLModel",
      "state": {
       "_dom_classes": [],
       "_model_module": "@jupyter-widgets/controls",
       "_model_module_version": "1.5.0",
       "_model_name": "HTMLModel",
       "_view_count": null,
       "_view_module": "@jupyter-widgets/controls",
       "_view_module_version": "1.5.0",
       "_view_name": "HTMLView",
       "description": "",
       "description_tooltip": null,
       "layout": "IPY_MODEL_33784023cd92431293c00cbcdd794eca",
       "placeholder": "​",
       "style": "IPY_MODEL_eea4d16a9f9b44c498b0d89b3eb1f087",
       "value": "100%"
      }
     },
     "f0a7f26dc6c54a7ea7a7fdb3022cf0e9": {
      "model_module": "@jupyter-widgets/base",
      "model_module_version": "1.2.0",
      "model_name": "LayoutModel",
      "state": {
       "_model_module": "@jupyter-widgets/base",
       "_model_module_version": "1.2.0",
       "_model_name": "LayoutModel",
       "_view_count": null,
       "_view_module": "@jupyter-widgets/base",
       "_view_module_version": "1.2.0",
       "_view_name": "LayoutView",
       "align_content": null,
       "align_items": null,
       "align_self": null,
       "border": null,
       "bottom": null,
       "display": null,
       "flex": null,
       "flex_flow": null,
       "grid_area": null,
       "grid_auto_columns": null,
       "grid_auto_flow": null,
       "grid_auto_rows": null,
       "grid_column": null,
       "grid_gap": null,
       "grid_row": null,
       "grid_template_areas": null,
       "grid_template_columns": null,
       "grid_template_rows": null,
       "height": null,
       "justify_content": null,
       "justify_items": null,
       "left": null,
       "margin": null,
       "max_height": null,
       "max_width": null,
       "min_height": null,
       "min_width": null,
       "object_fit": null,
       "object_position": null,
       "order": null,
       "overflow": null,
       "overflow_x": null,
       "overflow_y": null,
       "padding": null,
       "right": null,
       "top": null,
       "visibility": null,
       "width": null
      }
     },
     "f1d04ad40a4c4c8290c49a3fe47b11f0": {
      "model_module": "@jupyter-widgets/controls",
      "model_module_version": "1.5.0",
      "model_name": "ProgressStyleModel",
      "state": {
       "_model_module": "@jupyter-widgets/controls",
       "_model_module_version": "1.5.0",
       "_model_name": "ProgressStyleModel",
       "_view_count": null,
       "_view_module": "@jupyter-widgets/base",
       "_view_module_version": "1.2.0",
       "_view_name": "StyleView",
       "bar_color": null,
       "description_width": ""
      }
     },
     "f8b23bc23c9441c88f45c969869d3676": {
      "model_module": "@jupyter-widgets/base",
      "model_module_version": "1.2.0",
      "model_name": "LayoutModel",
      "state": {
       "_model_module": "@jupyter-widgets/base",
       "_model_module_version": "1.2.0",
       "_model_name": "LayoutModel",
       "_view_count": null,
       "_view_module": "@jupyter-widgets/base",
       "_view_module_version": "1.2.0",
       "_view_name": "LayoutView",
       "align_content": null,
       "align_items": null,
       "align_self": null,
       "border": null,
       "bottom": null,
       "display": null,
       "flex": null,
       "flex_flow": null,
       "grid_area": null,
       "grid_auto_columns": null,
       "grid_auto_flow": null,
       "grid_auto_rows": null,
       "grid_column": null,
       "grid_gap": null,
       "grid_row": null,
       "grid_template_areas": null,
       "grid_template_columns": null,
       "grid_template_rows": null,
       "height": null,
       "justify_content": null,
       "justify_items": null,
       "left": null,
       "margin": null,
       "max_height": null,
       "max_width": null,
       "min_height": null,
       "min_width": null,
       "object_fit": null,
       "object_position": null,
       "order": null,
       "overflow": null,
       "overflow_x": null,
       "overflow_y": null,
       "padding": null,
       "right": null,
       "top": null,
       "visibility": null,
       "width": null
      }
     },
     "fa51042a87d04a2a93889c8836f63b01": {
      "model_module": "@jupyter-widgets/controls",
      "model_module_version": "1.5.0",
      "model_name": "HTMLModel",
      "state": {
       "_dom_classes": [],
       "_model_module": "@jupyter-widgets/controls",
       "_model_module_version": "1.5.0",
       "_model_name": "HTMLModel",
       "_view_count": null,
       "_view_module": "@jupyter-widgets/controls",
       "_view_module_version": "1.5.0",
       "_view_name": "HTMLView",
       "description": "",
       "description_tooltip": null,
       "layout": "IPY_MODEL_45d15f1bc61243fd838107cb4507b69a",
       "placeholder": "​",
       "style": "IPY_MODEL_41011394ed6943fa8989639da7b88283",
       "value": " 269/269 [00:44&lt;00:00,  5.57it/s]"
      }
     },
     "fbfdc4e029b24e7ab5f2c6099178f013": {
      "model_module": "@jupyter-widgets/controls",
      "model_module_version": "1.5.0",
      "model_name": "DescriptionStyleModel",
      "state": {
       "_model_module": "@jupyter-widgets/controls",
       "_model_module_version": "1.5.0",
       "_model_name": "DescriptionStyleModel",
       "_view_count": null,
       "_view_module": "@jupyter-widgets/base",
       "_view_module_version": "1.2.0",
       "_view_name": "StyleView",
       "description_width": ""
      }
     },
     "fc50136e17064d7d9f1a954fa8459e92": {
      "model_module": "@jupyter-widgets/base",
      "model_module_version": "1.2.0",
      "model_name": "LayoutModel",
      "state": {
       "_model_module": "@jupyter-widgets/base",
       "_model_module_version": "1.2.0",
       "_model_name": "LayoutModel",
       "_view_count": null,
       "_view_module": "@jupyter-widgets/base",
       "_view_module_version": "1.2.0",
       "_view_name": "LayoutView",
       "align_content": null,
       "align_items": null,
       "align_self": null,
       "border": null,
       "bottom": null,
       "display": null,
       "flex": null,
       "flex_flow": null,
       "grid_area": null,
       "grid_auto_columns": null,
       "grid_auto_flow": null,
       "grid_auto_rows": null,
       "grid_column": null,
       "grid_gap": null,
       "grid_row": null,
       "grid_template_areas": null,
       "grid_template_columns": null,
       "grid_template_rows": null,
       "height": null,
       "justify_content": null,
       "justify_items": null,
       "left": null,
       "margin": null,
       "max_height": null,
       "max_width": null,
       "min_height": null,
       "min_width": null,
       "object_fit": null,
       "object_position": null,
       "order": null,
       "overflow": null,
       "overflow_x": null,
       "overflow_y": null,
       "padding": null,
       "right": null,
       "top": null,
       "visibility": null,
       "width": null
      }
     },
     "fc5d0c0506e443f9a79a5d845f58476e": {
      "model_module": "@jupyter-widgets/controls",
      "model_module_version": "1.5.0",
      "model_name": "ProgressStyleModel",
      "state": {
       "_model_module": "@jupyter-widgets/controls",
       "_model_module_version": "1.5.0",
       "_model_name": "ProgressStyleModel",
       "_view_count": null,
       "_view_module": "@jupyter-widgets/base",
       "_view_module_version": "1.2.0",
       "_view_name": "StyleView",
       "bar_color": null,
       "description_width": ""
      }
     },
     "fc87bedc1dc0483a8e0ad89eda85ecba": {
      "model_module": "@jupyter-widgets/base",
      "model_module_version": "1.2.0",
      "model_name": "LayoutModel",
      "state": {
       "_model_module": "@jupyter-widgets/base",
       "_model_module_version": "1.2.0",
       "_model_name": "LayoutModel",
       "_view_count": null,
       "_view_module": "@jupyter-widgets/base",
       "_view_module_version": "1.2.0",
       "_view_name": "LayoutView",
       "align_content": null,
       "align_items": null,
       "align_self": null,
       "border": null,
       "bottom": null,
       "display": null,
       "flex": null,
       "flex_flow": null,
       "grid_area": null,
       "grid_auto_columns": null,
       "grid_auto_flow": null,
       "grid_auto_rows": null,
       "grid_column": null,
       "grid_gap": null,
       "grid_row": null,
       "grid_template_areas": null,
       "grid_template_columns": null,
       "grid_template_rows": null,
       "height": null,
       "justify_content": null,
       "justify_items": null,
       "left": null,
       "margin": null,
       "max_height": null,
       "max_width": null,
       "min_height": null,
       "min_width": null,
       "object_fit": null,
       "object_position": null,
       "order": null,
       "overflow": null,
       "overflow_x": null,
       "overflow_y": null,
       "padding": null,
       "right": null,
       "top": null,
       "visibility": null,
       "width": null
      }
     },
     "ff8e71cd2ab64c8482f261f7148cbfee": {
      "model_module": "@jupyter-widgets/base",
      "model_module_version": "1.2.0",
      "model_name": "LayoutModel",
      "state": {
       "_model_module": "@jupyter-widgets/base",
       "_model_module_version": "1.2.0",
       "_model_name": "LayoutModel",
       "_view_count": null,
       "_view_module": "@jupyter-widgets/base",
       "_view_module_version": "1.2.0",
       "_view_name": "LayoutView",
       "align_content": null,
       "align_items": null,
       "align_self": null,
       "border": null,
       "bottom": null,
       "display": null,
       "flex": null,
       "flex_flow": null,
       "grid_area": null,
       "grid_auto_columns": null,
       "grid_auto_flow": null,
       "grid_auto_rows": null,
       "grid_column": null,
       "grid_gap": null,
       "grid_row": null,
       "grid_template_areas": null,
       "grid_template_columns": null,
       "grid_template_rows": null,
       "height": null,
       "justify_content": null,
       "justify_items": null,
       "left": null,
       "margin": null,
       "max_height": null,
       "max_width": null,
       "min_height": null,
       "min_width": null,
       "object_fit": null,
       "object_position": null,
       "order": null,
       "overflow": null,
       "overflow_x": null,
       "overflow_y": null,
       "padding": null,
       "right": null,
       "top": null,
       "visibility": null,
       "width": null
      }
     }
    },
    "version_major": 2,
    "version_minor": 0
   }
  }
 },
 "nbformat": 4,
 "nbformat_minor": 5
}
